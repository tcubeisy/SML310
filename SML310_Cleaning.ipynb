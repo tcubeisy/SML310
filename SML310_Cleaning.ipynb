{
  "nbformat": 4,
  "nbformat_minor": 0,
  "metadata": {
    "colab": {
      "name": "SML310 Cleaning.ipynb",
      "provenance": [],
      "collapsed_sections": []
    },
    "kernelspec": {
      "name": "python3",
      "display_name": "Python 3"
    },
    "language_info": {
      "name": "python"
    }
  },
  "cells": [
    {
      "cell_type": "code",
      "execution_count": null,
      "metadata": {
        "id": "Qpt7a9YnBz3c"
      },
      "outputs": [],
      "source": [
        "import pandas as pd\n",
        "import numpy as np\n",
        "import matplotlib.pyplot as plt\n",
        "from google.colab import drive\n",
        "import re\n",
        "from datetime import datetime\n"
      ]
    },
    {
      "cell_type": "code",
      "source": [
        "drive.mount('/content/drive')"
      ],
      "metadata": {
        "id": "BneG-M7IB9vU",
        "colab": {
          "base_uri": "https://localhost:8080/"
        },
        "outputId": "d146d2bb-de78-4020-ab43-e1aef7db141d"
      },
      "execution_count": null,
      "outputs": [
        {
          "output_type": "stream",
          "name": "stdout",
          "text": [
            "Mounted at /content/drive\n"
          ]
        }
      ]
    },
    {
      "cell_type": "code",
      "source": [
        "# for i, t in enumerate(df['time']):\n",
        "#   df['time'][i] = re.sub(\"<[^>]*>\", '', str(t))\n",
        "#   df['time'][i] = re.sub(\"'>\", '', df['time'][i])"
      ],
      "metadata": {
        "id": "bH6m1sJhDlc9"
      },
      "execution_count": null,
      "outputs": []
    },
    {
      "cell_type": "markdown",
      "source": [
        "## AL JAZEERA"
      ],
      "metadata": {
        "id": "cHyMKGiKHZsy"
      }
    },
    {
      "cell_type": "code",
      "source": [
        "filename2 = 'drive/My Drive/SML310/alj50.csv'\n",
        "aldf = pd.read_csv(filename2)"
      ],
      "metadata": {
        "id": "5AOGlA_f1SIM"
      },
      "execution_count": null,
      "outputs": []
    },
    {
      "cell_type": "code",
      "source": [
        "aldf.head()"
      ],
      "metadata": {
        "colab": {
          "base_uri": "https://localhost:8080/",
          "height": 206
        },
        "id": "w0sr4_NuHd8k",
        "outputId": "4dc950de-7b8c-4b96-cb07-e79d6453e32d"
      },
      "execution_count": null,
      "outputs": [
        {
          "output_type": "execute_result",
          "data": {
            "text/plain": [
              "                                               title  \\\n",
              "0  <h1>Israel court convicts seven over wedding v...   \n",
              "1  <h1>New Israeli rules on foreigners visiting W...   \n",
              "2  <h1>Palestinian killed during Israeli raid on ...   \n",
              "3  <h1>Israeli forces kill Palestinian in occupie...   \n",
              "4  <h1>Egypt’s role in Gaza: More than a mediator...   \n",
              "\n",
              "                       time                                            content  \n",
              "0  Published On 27 Apr 2022  An Israeli court convicted seven Jewish men of...  \n",
              "1  Published On 27 Apr 2022  Palestinian legal experts, academics and digit...  \n",
              "2  Published On 27 Apr 2022   Israeli forces have shot dead a Palestinian t...  \n",
              "3  Published On 26 Apr 2022  Israeli forces have killed a Palestinian man d...  \n",
              "4  Published On 26 Apr 2022   Tensions have once again escalated between Ha...  "
            ],
            "text/html": [
              "\n",
              "  <div id=\"df-81c1228f-d16a-4d65-a8bc-ec2ec775291a\">\n",
              "    <div class=\"colab-df-container\">\n",
              "      <div>\n",
              "<style scoped>\n",
              "    .dataframe tbody tr th:only-of-type {\n",
              "        vertical-align: middle;\n",
              "    }\n",
              "\n",
              "    .dataframe tbody tr th {\n",
              "        vertical-align: top;\n",
              "    }\n",
              "\n",
              "    .dataframe thead th {\n",
              "        text-align: right;\n",
              "    }\n",
              "</style>\n",
              "<table border=\"1\" class=\"dataframe\">\n",
              "  <thead>\n",
              "    <tr style=\"text-align: right;\">\n",
              "      <th></th>\n",
              "      <th>title</th>\n",
              "      <th>time</th>\n",
              "      <th>content</th>\n",
              "    </tr>\n",
              "  </thead>\n",
              "  <tbody>\n",
              "    <tr>\n",
              "      <th>0</th>\n",
              "      <td>&lt;h1&gt;Israel court convicts seven over wedding v...</td>\n",
              "      <td>Published On 27 Apr 2022</td>\n",
              "      <td>An Israeli court convicted seven Jewish men of...</td>\n",
              "    </tr>\n",
              "    <tr>\n",
              "      <th>1</th>\n",
              "      <td>&lt;h1&gt;New Israeli rules on foreigners visiting W...</td>\n",
              "      <td>Published On 27 Apr 2022</td>\n",
              "      <td>Palestinian legal experts, academics and digit...</td>\n",
              "    </tr>\n",
              "    <tr>\n",
              "      <th>2</th>\n",
              "      <td>&lt;h1&gt;Palestinian killed during Israeli raid on ...</td>\n",
              "      <td>Published On 27 Apr 2022</td>\n",
              "      <td>Israeli forces have shot dead a Palestinian t...</td>\n",
              "    </tr>\n",
              "    <tr>\n",
              "      <th>3</th>\n",
              "      <td>&lt;h1&gt;Israeli forces kill Palestinian in occupie...</td>\n",
              "      <td>Published On 26 Apr 2022</td>\n",
              "      <td>Israeli forces have killed a Palestinian man d...</td>\n",
              "    </tr>\n",
              "    <tr>\n",
              "      <th>4</th>\n",
              "      <td>&lt;h1&gt;Egypt’s role in Gaza: More than a mediator...</td>\n",
              "      <td>Published On 26 Apr 2022</td>\n",
              "      <td>Tensions have once again escalated between Ha...</td>\n",
              "    </tr>\n",
              "  </tbody>\n",
              "</table>\n",
              "</div>\n",
              "      <button class=\"colab-df-convert\" onclick=\"convertToInteractive('df-81c1228f-d16a-4d65-a8bc-ec2ec775291a')\"\n",
              "              title=\"Convert this dataframe to an interactive table.\"\n",
              "              style=\"display:none;\">\n",
              "        \n",
              "  <svg xmlns=\"http://www.w3.org/2000/svg\" height=\"24px\"viewBox=\"0 0 24 24\"\n",
              "       width=\"24px\">\n",
              "    <path d=\"M0 0h24v24H0V0z\" fill=\"none\"/>\n",
              "    <path d=\"M18.56 5.44l.94 2.06.94-2.06 2.06-.94-2.06-.94-.94-2.06-.94 2.06-2.06.94zm-11 1L8.5 8.5l.94-2.06 2.06-.94-2.06-.94L8.5 2.5l-.94 2.06-2.06.94zm10 10l.94 2.06.94-2.06 2.06-.94-2.06-.94-.94-2.06-.94 2.06-2.06.94z\"/><path d=\"M17.41 7.96l-1.37-1.37c-.4-.4-.92-.59-1.43-.59-.52 0-1.04.2-1.43.59L10.3 9.45l-7.72 7.72c-.78.78-.78 2.05 0 2.83L4 21.41c.39.39.9.59 1.41.59.51 0 1.02-.2 1.41-.59l7.78-7.78 2.81-2.81c.8-.78.8-2.07 0-2.86zM5.41 20L4 18.59l7.72-7.72 1.47 1.35L5.41 20z\"/>\n",
              "  </svg>\n",
              "      </button>\n",
              "      \n",
              "  <style>\n",
              "    .colab-df-container {\n",
              "      display:flex;\n",
              "      flex-wrap:wrap;\n",
              "      gap: 12px;\n",
              "    }\n",
              "\n",
              "    .colab-df-convert {\n",
              "      background-color: #E8F0FE;\n",
              "      border: none;\n",
              "      border-radius: 50%;\n",
              "      cursor: pointer;\n",
              "      display: none;\n",
              "      fill: #1967D2;\n",
              "      height: 32px;\n",
              "      padding: 0 0 0 0;\n",
              "      width: 32px;\n",
              "    }\n",
              "\n",
              "    .colab-df-convert:hover {\n",
              "      background-color: #E2EBFA;\n",
              "      box-shadow: 0px 1px 2px rgba(60, 64, 67, 0.3), 0px 1px 3px 1px rgba(60, 64, 67, 0.15);\n",
              "      fill: #174EA6;\n",
              "    }\n",
              "\n",
              "    [theme=dark] .colab-df-convert {\n",
              "      background-color: #3B4455;\n",
              "      fill: #D2E3FC;\n",
              "    }\n",
              "\n",
              "    [theme=dark] .colab-df-convert:hover {\n",
              "      background-color: #434B5C;\n",
              "      box-shadow: 0px 1px 3px 1px rgba(0, 0, 0, 0.15);\n",
              "      filter: drop-shadow(0px 1px 2px rgba(0, 0, 0, 0.3));\n",
              "      fill: #FFFFFF;\n",
              "    }\n",
              "  </style>\n",
              "\n",
              "      <script>\n",
              "        const buttonEl =\n",
              "          document.querySelector('#df-81c1228f-d16a-4d65-a8bc-ec2ec775291a button.colab-df-convert');\n",
              "        buttonEl.style.display =\n",
              "          google.colab.kernel.accessAllowed ? 'block' : 'none';\n",
              "\n",
              "        async function convertToInteractive(key) {\n",
              "          const element = document.querySelector('#df-81c1228f-d16a-4d65-a8bc-ec2ec775291a');\n",
              "          const dataTable =\n",
              "            await google.colab.kernel.invokeFunction('convertToInteractive',\n",
              "                                                     [key], {});\n",
              "          if (!dataTable) return;\n",
              "\n",
              "          const docLinkHtml = 'Like what you see? Visit the ' +\n",
              "            '<a target=\"_blank\" href=https://colab.research.google.com/notebooks/data_table.ipynb>data table notebook</a>'\n",
              "            + ' to learn more about interactive tables.';\n",
              "          element.innerHTML = '';\n",
              "          dataTable['output_type'] = 'display_data';\n",
              "          await google.colab.output.renderOutput(dataTable, element);\n",
              "          const docLink = document.createElement('div');\n",
              "          docLink.innerHTML = docLinkHtml;\n",
              "          element.appendChild(docLink);\n",
              "        }\n",
              "      </script>\n",
              "    </div>\n",
              "  </div>\n",
              "  "
            ]
          },
          "metadata": {},
          "execution_count": 5
        }
      ]
    },
    {
      "cell_type": "code",
      "source": [
        "aldf['title'][0]"
      ],
      "metadata": {
        "colab": {
          "base_uri": "https://localhost:8080/",
          "height": 35
        },
        "id": "x9Qxc3MOMx0d",
        "outputId": "321c5b90-527e-4563-a810-6c92e8b29c70"
      },
      "execution_count": null,
      "outputs": [
        {
          "output_type": "execute_result",
          "data": {
            "text/plain": [
              "'<h1>Israel court convicts seven over wedding video celebrating arson</h1>'"
            ],
            "application/vnd.google.colaboratory.intrinsic+json": {
              "type": "string"
            }
          },
          "metadata": {},
          "execution_count": 6
        }
      ]
    },
    {
      "cell_type": "code",
      "source": [
        "## Removing the HTML tags\n",
        "\n",
        "for i in range(len(aldf['title'])):\n",
        "  aldf['title'][i] = re.sub(\"<[^>]*>\", \"\", str(aldf['title'][i]))"
      ],
      "metadata": {
        "id": "7QLsEEGDNFgT"
      },
      "execution_count": null,
      "outputs": []
    },
    {
      "cell_type": "code",
      "source": [
        "## Cleaning and converting the time\n",
        "\n",
        "for i in range(len(aldf['time'])):\n",
        "  aldf['time'][i] = re.sub(\"Published On \", \"\", str(aldf['time'][i]))"
      ],
      "metadata": {
        "id": "-rCNpKfqNOuZ"
      },
      "execution_count": null,
      "outputs": []
    },
    {
      "cell_type": "code",
      "source": [
        "aldf['time'][354]"
      ],
      "metadata": {
        "colab": {
          "base_uri": "https://localhost:8080/",
          "height": 35
        },
        "id": "_dw4P42RQaJV",
        "outputId": "4d4aaccd-3ec8-4546-dac2-ae9dfbc275d8"
      },
      "execution_count": null,
      "outputs": [
        {
          "output_type": "execute_result",
          "data": {
            "text/plain": [
              "'nan'"
            ],
            "application/vnd.google.colaboratory.intrinsic+json": {
              "type": "string"
            }
          },
          "metadata": {},
          "execution_count": 9
        }
      ]
    },
    {
      "cell_type": "code",
      "source": [
        "month_to_num = {\n",
        "    'Jan': '01',\n",
        "    'Feb': '02',\n",
        "    'Mar': '03',\n",
        "    'Apr': '04',\n",
        "    'May': '05',\n",
        "    'Jun': '06',\n",
        "    'Jul': '07',\n",
        "    'Aug': '08',\n",
        "    'Sep': '09',\n",
        "    'Oct': '10',\n",
        "    'Nov': '11',\n",
        "    'Dec': '12'\n",
        "}\n",
        "\n",
        "\n",
        "\n",
        "for i in range(len(aldf['time'])):\n",
        "  try:\n",
        "    day, month, year = aldf['time'][i].split()\n",
        "    month = month_to_num[month]\n",
        "    date = datetime(year=int(year), month=int(month), day=int(day))\n",
        "    aldf['time'][i] = date\n",
        "\n",
        "  except:\n",
        "    print(i)\n",
        "    continue\n",
        "  #datetime.fromtimestamp(aldf['time'][i])"
      ],
      "metadata": {
        "colab": {
          "base_uri": "https://localhost:8080/"
        },
        "id": "U6GS8GfbPgSi",
        "outputId": "50e75e99-af64-4449-cffd-49b8cdb4f375"
      },
      "execution_count": null,
      "outputs": [
        {
          "output_type": "stream",
          "name": "stdout",
          "text": [
            "81\n",
            "354\n"
          ]
        }
      ]
    },
    {
      "cell_type": "code",
      "source": [
        "aldf.head()"
      ],
      "metadata": {
        "colab": {
          "base_uri": "https://localhost:8080/",
          "height": 206
        },
        "id": "UnOQIXuLa6Zl",
        "outputId": "447ec837-c341-4c00-bb6b-a63457a8d314"
      },
      "execution_count": null,
      "outputs": [
        {
          "output_type": "execute_result",
          "data": {
            "text/plain": [
              "                                               title                 time  \\\n",
              "0  Israel court convicts seven over wedding video...  2022-04-27 00:00:00   \n",
              "1  New Israeli rules on foreigners visiting West ...  2022-04-27 00:00:00   \n",
              "2  Palestinian killed during Israeli raid on Jeni...  2022-04-27 00:00:00   \n",
              "3  Israeli forces kill Palestinian in occupied We...  2022-04-26 00:00:00   \n",
              "4         Egypt’s role in Gaza: More than a mediator  2022-04-26 00:00:00   \n",
              "\n",
              "                                             content  \n",
              "0  An Israeli court convicted seven Jewish men of...  \n",
              "1  Palestinian legal experts, academics and digit...  \n",
              "2   Israeli forces have shot dead a Palestinian t...  \n",
              "3  Israeli forces have killed a Palestinian man d...  \n",
              "4   Tensions have once again escalated between Ha...  "
            ],
            "text/html": [
              "\n",
              "  <div id=\"df-7f9f61fc-871a-4563-ab6e-f500a6f17cfa\">\n",
              "    <div class=\"colab-df-container\">\n",
              "      <div>\n",
              "<style scoped>\n",
              "    .dataframe tbody tr th:only-of-type {\n",
              "        vertical-align: middle;\n",
              "    }\n",
              "\n",
              "    .dataframe tbody tr th {\n",
              "        vertical-align: top;\n",
              "    }\n",
              "\n",
              "    .dataframe thead th {\n",
              "        text-align: right;\n",
              "    }\n",
              "</style>\n",
              "<table border=\"1\" class=\"dataframe\">\n",
              "  <thead>\n",
              "    <tr style=\"text-align: right;\">\n",
              "      <th></th>\n",
              "      <th>title</th>\n",
              "      <th>time</th>\n",
              "      <th>content</th>\n",
              "    </tr>\n",
              "  </thead>\n",
              "  <tbody>\n",
              "    <tr>\n",
              "      <th>0</th>\n",
              "      <td>Israel court convicts seven over wedding video...</td>\n",
              "      <td>2022-04-27 00:00:00</td>\n",
              "      <td>An Israeli court convicted seven Jewish men of...</td>\n",
              "    </tr>\n",
              "    <tr>\n",
              "      <th>1</th>\n",
              "      <td>New Israeli rules on foreigners visiting West ...</td>\n",
              "      <td>2022-04-27 00:00:00</td>\n",
              "      <td>Palestinian legal experts, academics and digit...</td>\n",
              "    </tr>\n",
              "    <tr>\n",
              "      <th>2</th>\n",
              "      <td>Palestinian killed during Israeli raid on Jeni...</td>\n",
              "      <td>2022-04-27 00:00:00</td>\n",
              "      <td>Israeli forces have shot dead a Palestinian t...</td>\n",
              "    </tr>\n",
              "    <tr>\n",
              "      <th>3</th>\n",
              "      <td>Israeli forces kill Palestinian in occupied We...</td>\n",
              "      <td>2022-04-26 00:00:00</td>\n",
              "      <td>Israeli forces have killed a Palestinian man d...</td>\n",
              "    </tr>\n",
              "    <tr>\n",
              "      <th>4</th>\n",
              "      <td>Egypt’s role in Gaza: More than a mediator</td>\n",
              "      <td>2022-04-26 00:00:00</td>\n",
              "      <td>Tensions have once again escalated between Ha...</td>\n",
              "    </tr>\n",
              "  </tbody>\n",
              "</table>\n",
              "</div>\n",
              "      <button class=\"colab-df-convert\" onclick=\"convertToInteractive('df-7f9f61fc-871a-4563-ab6e-f500a6f17cfa')\"\n",
              "              title=\"Convert this dataframe to an interactive table.\"\n",
              "              style=\"display:none;\">\n",
              "        \n",
              "  <svg xmlns=\"http://www.w3.org/2000/svg\" height=\"24px\"viewBox=\"0 0 24 24\"\n",
              "       width=\"24px\">\n",
              "    <path d=\"M0 0h24v24H0V0z\" fill=\"none\"/>\n",
              "    <path d=\"M18.56 5.44l.94 2.06.94-2.06 2.06-.94-2.06-.94-.94-2.06-.94 2.06-2.06.94zm-11 1L8.5 8.5l.94-2.06 2.06-.94-2.06-.94L8.5 2.5l-.94 2.06-2.06.94zm10 10l.94 2.06.94-2.06 2.06-.94-2.06-.94-.94-2.06-.94 2.06-2.06.94z\"/><path d=\"M17.41 7.96l-1.37-1.37c-.4-.4-.92-.59-1.43-.59-.52 0-1.04.2-1.43.59L10.3 9.45l-7.72 7.72c-.78.78-.78 2.05 0 2.83L4 21.41c.39.39.9.59 1.41.59.51 0 1.02-.2 1.41-.59l7.78-7.78 2.81-2.81c.8-.78.8-2.07 0-2.86zM5.41 20L4 18.59l7.72-7.72 1.47 1.35L5.41 20z\"/>\n",
              "  </svg>\n",
              "      </button>\n",
              "      \n",
              "  <style>\n",
              "    .colab-df-container {\n",
              "      display:flex;\n",
              "      flex-wrap:wrap;\n",
              "      gap: 12px;\n",
              "    }\n",
              "\n",
              "    .colab-df-convert {\n",
              "      background-color: #E8F0FE;\n",
              "      border: none;\n",
              "      border-radius: 50%;\n",
              "      cursor: pointer;\n",
              "      display: none;\n",
              "      fill: #1967D2;\n",
              "      height: 32px;\n",
              "      padding: 0 0 0 0;\n",
              "      width: 32px;\n",
              "    }\n",
              "\n",
              "    .colab-df-convert:hover {\n",
              "      background-color: #E2EBFA;\n",
              "      box-shadow: 0px 1px 2px rgba(60, 64, 67, 0.3), 0px 1px 3px 1px rgba(60, 64, 67, 0.15);\n",
              "      fill: #174EA6;\n",
              "    }\n",
              "\n",
              "    [theme=dark] .colab-df-convert {\n",
              "      background-color: #3B4455;\n",
              "      fill: #D2E3FC;\n",
              "    }\n",
              "\n",
              "    [theme=dark] .colab-df-convert:hover {\n",
              "      background-color: #434B5C;\n",
              "      box-shadow: 0px 1px 3px 1px rgba(0, 0, 0, 0.15);\n",
              "      filter: drop-shadow(0px 1px 2px rgba(0, 0, 0, 0.3));\n",
              "      fill: #FFFFFF;\n",
              "    }\n",
              "  </style>\n",
              "\n",
              "      <script>\n",
              "        const buttonEl =\n",
              "          document.querySelector('#df-7f9f61fc-871a-4563-ab6e-f500a6f17cfa button.colab-df-convert');\n",
              "        buttonEl.style.display =\n",
              "          google.colab.kernel.accessAllowed ? 'block' : 'none';\n",
              "\n",
              "        async function convertToInteractive(key) {\n",
              "          const element = document.querySelector('#df-7f9f61fc-871a-4563-ab6e-f500a6f17cfa');\n",
              "          const dataTable =\n",
              "            await google.colab.kernel.invokeFunction('convertToInteractive',\n",
              "                                                     [key], {});\n",
              "          if (!dataTable) return;\n",
              "\n",
              "          const docLinkHtml = 'Like what you see? Visit the ' +\n",
              "            '<a target=\"_blank\" href=https://colab.research.google.com/notebooks/data_table.ipynb>data table notebook</a>'\n",
              "            + ' to learn more about interactive tables.';\n",
              "          element.innerHTML = '';\n",
              "          dataTable['output_type'] = 'display_data';\n",
              "          await google.colab.output.renderOutput(dataTable, element);\n",
              "          const docLink = document.createElement('div');\n",
              "          docLink.innerHTML = docLinkHtml;\n",
              "          element.appendChild(docLink);\n",
              "        }\n",
              "      </script>\n",
              "    </div>\n",
              "  </div>\n",
              "  "
            ]
          },
          "metadata": {},
          "execution_count": 11
        }
      ]
    },
    {
      "cell_type": "code",
      "source": [
        "aldf.dropna(subset=['title', 'content'], inplace=True)\n",
        "aldf.reset_index(drop=True, inplace=True)"
      ],
      "metadata": {
        "id": "MwK45Yz0H6hR"
      },
      "execution_count": null,
      "outputs": []
    },
    {
      "cell_type": "code",
      "source": [
        "docs_al = aldf['content'].copy(deep=True)\n",
        "titles_al = aldf['title'].copy(deep=True)"
      ],
      "metadata": {
        "id": "m9YLNE9Ya-ED"
      },
      "execution_count": null,
      "outputs": []
    },
    {
      "cell_type": "code",
      "source": [
        "docs_al[0]"
      ],
      "metadata": {
        "colab": {
          "base_uri": "https://localhost:8080/",
          "height": 53
        },
        "id": "B8XWvN8ViU6I",
        "outputId": "17260228-015a-4f19-d1ad-d77aa45febc4"
      },
      "execution_count": null,
      "outputs": [
        {
          "output_type": "execute_result",
          "data": {
            "text/plain": [
              "'An Israeli court convicted seven Jewish men of inciting violence and terror and a slew of other charges for their involvement in a 2015 wedding in which participants celebrated an arson attack that killed a Palestinian toddler and his parents.'"
            ],
            "application/vnd.google.colaboratory.intrinsic+json": {
              "type": "string"
            }
          },
          "metadata": {},
          "execution_count": 14
        }
      ]
    },
    {
      "cell_type": "markdown",
      "source": [
        "## TOKENIZE"
      ],
      "metadata": {
        "id": "WNJ9XRUzeBZw"
      }
    },
    {
      "cell_type": "code",
      "source": [
        "from nltk.tokenize import RegexpTokenizer\n",
        "import nltk\n",
        "nltk.download('wordnet')\n",
        "nltk.download('stopwords')\n",
        "from nltk.corpus import stopwords\n",
        "from nltk.stem.wordnet import WordNetLemmatizer"
      ],
      "metadata": {
        "colab": {
          "base_uri": "https://localhost:8080/"
        },
        "id": "MifqZygyd-Xt",
        "outputId": "811926b4-c6d8-4999-ed09-8fef88192575"
      },
      "execution_count": null,
      "outputs": [
        {
          "output_type": "stream",
          "name": "stdout",
          "text": [
            "[nltk_data] Downloading package wordnet to /root/nltk_data...\n",
            "[nltk_data]   Unzipping corpora/wordnet.zip.\n",
            "[nltk_data] Downloading package stopwords to /root/nltk_data...\n",
            "[nltk_data]   Unzipping corpora/stopwords.zip.\n"
          ]
        }
      ]
    },
    {
      "cell_type": "code",
      "source": [
        "# Split the documents into tokens.\n",
        "\n",
        "def tokenize(docs):\n",
        "  tokenizer = RegexpTokenizer(r'\\w+')\n",
        "  for idx in range(len(docs)):\n",
        "      docs[idx] = docs[idx].lower()  # Convert to lowercase.\n",
        "      docs[idx] = tokenizer.tokenize(docs[idx])  # Split into words.\n",
        "\n",
        "  # Remove numbers, but not words that contain numbers.\n",
        "  docs = [[token for token in doc if not token.isnumeric()] for doc in docs]\n",
        "\n",
        "  # Remove words that are only one character.\n",
        "  docs = [[token for token in doc if len(token) > 1] for doc in docs]\n",
        "\n",
        "  return docs"
      ],
      "metadata": {
        "id": "bcM-3dIVeC43"
      },
      "execution_count": null,
      "outputs": []
    },
    {
      "cell_type": "code",
      "source": [
        "# Delete stopwords\n",
        "def remove_stop(docs):\n",
        "\n",
        "  s=set(stopwords.words('english'))\n",
        "\n",
        "  for i, doc in enumerate(docs):\n",
        "    docs[i] = [x for x in docs[i] if x not in s]\n",
        "  \n",
        "  return docs"
      ],
      "metadata": {
        "id": "-swL-h6ReGiJ"
      },
      "execution_count": null,
      "outputs": []
    },
    {
      "cell_type": "code",
      "source": [
        "# Remove the 50 most common words\n",
        "\n",
        "from nltk.probability import FreqDist\n",
        "\n",
        "def remove_N_common(docs, N):\n",
        "  allWords = []\n",
        "\n",
        "  for wordList in docs:\n",
        "    for word in wordList:\n",
        "      allWords.append(word)\n",
        "\n",
        "  corpus_frequency = FreqDist(allWords)\n",
        "  corpus_common=corpus_frequency.most_common(N)\n",
        "\n",
        "  mclist = set()\n",
        "  for i in range(len(corpus_common)):\n",
        "      mclist.add(corpus_common[i][0])\n",
        "\n",
        "  docs = [[token for token in doc if token not in mclist] for doc in docs]\n",
        "  return docs\n",
        "\n"
      ],
      "metadata": {
        "id": "vPQg0X6yU6Zf"
      },
      "execution_count": null,
      "outputs": []
    },
    {
      "cell_type": "code",
      "source": [
        "# Remove words that appear in less than 5% of documents\n",
        "\n",
        "def remove_N_least(docs, N):\n",
        "\n",
        "  count = {}\n",
        "  less = set()\n",
        "\n",
        "  for i in range(len(docs)):\n",
        "    for token in docs[i]:\n",
        "      try:\n",
        "        count[token].add(i)\n",
        "      except:\n",
        "        count[token] = {i}\n",
        "\n",
        "  for i in count:\n",
        "    count[i] = len(count[i]) / len(docs)\n",
        "    if count[i] <= N:\n",
        "      less.add(i)\n",
        "\n",
        "  print(len(less))\n",
        "  print(len(docs))\n",
        "\n",
        "  return count, less\n",
        "\n",
        "  #docs = [[token for token in doc if token not in count] for doc in docs]\n",
        "  #return docs\n",
        "\n",
        "    \n",
        "\n",
        "  "
      ],
      "metadata": {
        "id": "j3kDydrimebv"
      },
      "execution_count": null,
      "outputs": []
    },
    {
      "cell_type": "code",
      "source": [
        "# Remove words that are not POS other than a noun, adjective or adverb\n",
        "import nltk\n",
        "nltk.download('averaged_perceptron_tagger')\n",
        "\n",
        "import spacy\n",
        "from spacy import displacy\n",
        "\n",
        "NER = spacy.load(\"en_core_web_sm\")\n",
        "\n",
        "def keep_pos(docs):\n",
        "\n",
        "  tagged_docs_al = []\n",
        "\n",
        "  for tokens in docs:\n",
        "    tagged = nltk.pos_tag(tokens)\n",
        "    tagged_docs_al.append(tagged)\n",
        "\n",
        "  # if it starts with N: Noun, Starts with RB: Adverb, starts with JJ: Adjective\n",
        "\n",
        "  keep_pos = set()\n",
        "\n",
        "  for tags in tagged_docs_al:\n",
        "    for word, pos in tags:\n",
        "      if pos.startswith('N'):\n",
        "        keep_pos.add(word)\n",
        "        \n",
        "      elif pos.startswith('RB'):\n",
        "        keep_pos.add(word)\n",
        "        \n",
        "      elif pos.startswith('JJ'):\n",
        "        keep_pos.add(word)\n",
        "        \n",
        "      else:\n",
        "        continue\n",
        "\n",
        "  # Remove words that are names of people, organizations, countries\n",
        "  text = NER(str(keep_pos))\n",
        "\n",
        "  for word in text.ents:\n",
        "    if '\\'' in word.text:\n",
        "      stripped = word.text.strip('\\'')\n",
        "      keep_pos.remove(stripped)\n",
        "      \n",
        "    else:\n",
        "      keep_pos.remove(word.text)\n",
        "\n",
        "  docs = [[token for token in doc if token in keep_pos] for doc in docs]\n",
        "  return docs\n",
        "\n",
        "\n"
      ],
      "metadata": {
        "colab": {
          "base_uri": "https://localhost:8080/"
        },
        "id": "iXZVXNaIH_Oa",
        "outputId": "ff011371-c32e-4387-ecd9-dd50310d935f"
      },
      "execution_count": null,
      "outputs": [
        {
          "output_type": "stream",
          "name": "stdout",
          "text": [
            "[nltk_data] Downloading package averaged_perceptron_tagger to\n",
            "[nltk_data]     /root/nltk_data...\n",
            "[nltk_data]   Unzipping taggers/averaged_perceptron_tagger.zip.\n"
          ]
        }
      ]
    },
    {
      "cell_type": "code",
      "source": [
        "## LEMMATIZE\n",
        "\n",
        "def lemmatize(docs):\n",
        "  lemmatizer = WordNetLemmatizer()\n",
        "  docs = [[lemmatizer.lemmatize(token) for token in doc] for doc in docs]\n",
        "  return docs\n"
      ],
      "metadata": {
        "id": "JB9CUkdDo_xN"
      },
      "execution_count": null,
      "outputs": []
    },
    {
      "cell_type": "code",
      "source": [
        "docs_al = tokenize(docs_al)\n",
        "docs_al = remove_stop(docs_al)\n",
        "docs_al = remove_N_common(docs_al, 50)\n",
        "#docs_al = remove_N_least(docs_al, 0.05)\n",
        "docs_al = keep_pos(docs_al)"
      ],
      "metadata": {
        "id": "oxwitjL9fwNS"
      },
      "execution_count": null,
      "outputs": []
    },
    {
      "cell_type": "code",
      "source": [
        "docs_al[0]"
      ],
      "metadata": {
        "colab": {
          "base_uri": "https://localhost:8080/"
        },
        "id": "V8jAe-ssgNUi",
        "outputId": "82b3b093-e7a5-454f-ab06-692a104576af"
      },
      "execution_count": null,
      "outputs": [
        {
          "output_type": "execute_result",
          "data": {
            "text/plain": [
              "['court',\n",
              " 'men',\n",
              " 'terror',\n",
              " 'slew',\n",
              " 'charges',\n",
              " 'involvement',\n",
              " 'participants',\n",
              " 'arson',\n",
              " 'attack',\n",
              " 'toddler',\n",
              " 'parents']"
            ]
          },
          "metadata": {},
          "execution_count": 23
        }
      ]
    },
    {
      "cell_type": "code",
      "source": [
        "titles_al = tokenize(titles_al)\n",
        "titles_al = remove_stop(titles_al)\n",
        "titles_al = remove_N_common(titles_al, 15)\n",
        "titles_al = keep_pos(titles_al)"
      ],
      "metadata": {
        "id": "BzavMbrzgXpu"
      },
      "execution_count": null,
      "outputs": []
    },
    {
      "cell_type": "code",
      "source": [
        "titles_al[0]"
      ],
      "metadata": {
        "colab": {
          "base_uri": "https://localhost:8080/"
        },
        "id": "Dt9Dg7mpgjsF",
        "outputId": "79a79657-9a7d-4836-e977-7ad3af5986a9"
      },
      "execution_count": null,
      "outputs": [
        {
          "output_type": "execute_result",
          "data": {
            "text/plain": [
              "['court', 'convicts', 'video', 'arson']"
            ]
          },
          "metadata": {},
          "execution_count": 25
        }
      ]
    },
    {
      "cell_type": "markdown",
      "source": [
        "## TF.IDF weighted vector encodings"
      ],
      "metadata": {
        "id": "UFoFfkc2lPmo"
      }
    },
    {
      "cell_type": "code",
      "source": [
        "# from sklearn.feature_extraction.text import TfidfVectorizer\n",
        "\n",
        "# model = TfidfVectorizer()\n",
        "# model.fit(docs_al)"
      ],
      "metadata": {
        "id": "UiHMhp6OlSon"
      },
      "execution_count": null,
      "outputs": []
    },
    {
      "cell_type": "code",
      "source": [
        "def DF_count(docs, titles):\n",
        "  DF = {}\n",
        "  for i in range(len(docs)):\n",
        "      tokens = docs[i]\n",
        "      for w in tokens:\n",
        "          try:\n",
        "              DF[w].add(i)\n",
        "              #DF[w] += 1\n",
        "          except:\n",
        "              DF[w] = {i}\n",
        "\n",
        "\n",
        "      tokens = titles[i]\n",
        "      for w in tokens:\n",
        "        try:\n",
        "          DF[w].add(i)\n",
        "        except:\n",
        "          DF[w] = {i}\n",
        "\n",
        "  for i in DF:\n",
        "    DF[i] = len(DF[i])\n",
        "\n",
        "  return DF"
      ],
      "metadata": {
        "id": "Xrzeyi0_ZNt8"
      },
      "execution_count": null,
      "outputs": []
    },
    {
      "cell_type": "code",
      "source": [
        "DF_al = DF_count(docs_al, titles_al)\n"
      ],
      "metadata": {
        "id": "wrGkm5ZrpbqZ"
      },
      "execution_count": null,
      "outputs": []
    },
    {
      "cell_type": "code",
      "source": [
        "from collections import Counter\n",
        "\n",
        "def tf_idf(docs, titles, DF):\n",
        "  N = len(docs)\n",
        "  tf_idf = {}\n",
        "\n",
        "  for i in range(N):\n",
        "      tokens = docs[i]\n",
        "      words_count = len(tokens + titles[i])\n",
        "      counter = Counter(tokens + titles[i])\n",
        "      for token in np.unique(tokens):\n",
        "          tf = counter[token]/words_count\n",
        "          df = DF[token]\n",
        "          idf = np.log((N+1)/(df+1))\n",
        "          tf_idf[i, token] = tf*idf\n",
        "\n",
        "  return tf_idf"
      ],
      "metadata": {
        "id": "pcXEpwoYjRL_"
      },
      "execution_count": null,
      "outputs": []
    },
    {
      "cell_type": "code",
      "source": [
        "tfidf_docs = tf_idf(docs_al, titles_al, DF_al)\n",
        "tfidf_titles = tf_idf(titles_al, docs_al, DF_al)"
      ],
      "metadata": {
        "id": "zqfCt-K6pilV"
      },
      "execution_count": null,
      "outputs": []
    },
    {
      "cell_type": "markdown",
      "source": [
        "### Merge the title and body according to alpha weights"
      ],
      "metadata": {
        "id": "8PBMGzCyJmG7"
      }
    },
    {
      "cell_type": "markdown",
      "source": [
        "Inspiration: https://github.com/williamscott701/Information-Retrieval/blob/master/2.%20TF-IDF%20Ranking%20-%20Cosine%20Similarity%2C%20Matching%20Score/TF-IDF.ipynb"
      ],
      "metadata": {
        "id": "8o14ptHpo45p"
      }
    },
    {
      "cell_type": "markdown",
      "source": [
        "https://towardsdatascience.com/tf-idf-for-document-ranking-from-scratch-in-python-on-real-world-dataset-796d339a4089"
      ],
      "metadata": {
        "id": "so3JpQyYJ5Hb"
      }
    },
    {
      "cell_type": "code",
      "source": [
        "alpha = 0.3\n",
        "\n",
        "for i in tfidf_docs:\n",
        "    tfidf_docs[i] *= alpha\n",
        "\n",
        "for i in tfidf_titles:\n",
        "    tfidf_docs[i] = tfidf_titles[i]\n"
      ],
      "metadata": {
        "id": "mXcX7me3JadX"
      },
      "execution_count": null,
      "outputs": []
    },
    {
      "cell_type": "markdown",
      "source": [
        "### Vectorizing"
      ],
      "metadata": {
        "id": "HdAWDmxDMI5Z"
      }
    },
    {
      "cell_type": "code",
      "source": [
        "def cosine_sim(a, b):\n",
        "    cos_sim = np.dot(a, b)/(np.linalg.norm(a)*np.linalg.norm(b))\n",
        "    return cos_sim"
      ],
      "metadata": {
        "id": "evO9JQdSLfCi"
      },
      "execution_count": null,
      "outputs": []
    },
    {
      "cell_type": "code",
      "source": [
        "total_vocab_N = len(DF_al)\n",
        "N = len(docs_al)\n",
        "total_vocab = [x for x in DF_al]"
      ],
      "metadata": {
        "id": "-SoaM6rtMLbz"
      },
      "execution_count": null,
      "outputs": []
    },
    {
      "cell_type": "code",
      "source": [
        "D = np.zeros((N, total_vocab_N))\n",
        "\n",
        "for i in tfidf_docs:\n",
        "  try:\n",
        "      ind = total_vocab.index(i[1])\n",
        "      D[i[0]][ind] = tfidf_docs[i]\n",
        "  except:\n",
        "      pass"
      ],
      "metadata": {
        "id": "D31B4__RNhug"
      },
      "execution_count": null,
      "outputs": []
    },
    {
      "cell_type": "code",
      "source": [
        "D.shape"
      ],
      "metadata": {
        "colab": {
          "base_uri": "https://localhost:8080/"
        },
        "id": "Tnzc6yIHOCXG",
        "outputId": "1affa68e-9425-4060-d8fe-d308ecf61954"
      },
      "execution_count": null,
      "outputs": [
        {
          "output_type": "execute_result",
          "data": {
            "text/plain": [
              "(502, 2350)"
            ]
          },
          "metadata": {},
          "execution_count": 35
        }
      ]
    },
    {
      "cell_type": "code",
      "source": [
        "N"
      ],
      "metadata": {
        "colab": {
          "base_uri": "https://localhost:8080/"
        },
        "id": "uX5zK3pnOC0h",
        "outputId": "124643c1-8121-4c0f-ee31-a2baa8815a30"
      },
      "execution_count": null,
      "outputs": [
        {
          "output_type": "execute_result",
          "data": {
            "text/plain": [
              "502"
            ]
          },
          "metadata": {},
          "execution_count": 36
        }
      ]
    },
    {
      "cell_type": "code",
      "source": [
        "len(total_vocab)"
      ],
      "metadata": {
        "colab": {
          "base_uri": "https://localhost:8080/"
        },
        "id": "SHijxubkQk2P",
        "outputId": "780dccce-ab4a-4855-da70-9a9bdedbac66"
      },
      "execution_count": null,
      "outputs": [
        {
          "output_type": "execute_result",
          "data": {
            "text/plain": [
              "2350"
            ]
          },
          "metadata": {},
          "execution_count": 37
        }
      ]
    },
    {
      "cell_type": "markdown",
      "source": [
        "## Applying K-Means"
      ],
      "metadata": {
        "id": "nlfoHJo4Rf43"
      }
    },
    {
      "cell_type": "code",
      "source": [
        "from sklearn.cluster import KMeans\n",
        "from sklearn.cluster import AgglomerativeClustering\n",
        "from sklearn.metrics import davies_bouldin_score\n",
        "\n",
        "def plot_elbow(D, spherical = False):\n",
        "  sse = []\n",
        "  list_k = list(range(2, 10))\n",
        "\n",
        "  for k in list_k:\n",
        "      if not spherical:\n",
        "        km = KMeans(n_clusters=k)\n",
        "\n",
        "      else:\n",
        "        km = AgglomerativeClustering(n_clusters=k, affinity='cosine', linkage='average', compute_distances=True)\n",
        "      \n",
        "      km.fit(D)\n",
        "\n",
        "      if not spherical:\n",
        "        sse.append(km.inertia_)\n",
        "\n",
        "      else:\n",
        "        labels = km.labels_\n",
        "        sse.append(davies_bouldin_score(D, labels))\n",
        "        #print(km.distances_)\n",
        "        #sse.append(np.sum(np.square(km.distances_)))\n",
        "\n",
        "  print(sse)\n",
        "  # Plot sse against k\n",
        "  plt.figure(figsize=(6, 6))\n",
        "  plt.plot(list_k, sse, '-o')\n",
        "  plt.xlabel(r'Number of clusters *k*')\n",
        "  plt.ylabel('Davies Bouldin coefficient')"
      ],
      "metadata": {
        "id": "AupwL4sJqvbj"
      },
      "execution_count": null,
      "outputs": []
    },
    {
      "cell_type": "code",
      "source": [
        "def normalize(D):\n",
        "  sum = (D**2).sum(axis=1)\n",
        "  length = np.sqrt(sum)[:,None]\n",
        "  print(length)\n",
        "  D = D / length\n",
        "  return D"
      ],
      "metadata": {
        "id": "-MSCW4vi7rx0"
      },
      "execution_count": null,
      "outputs": []
    },
    {
      "cell_type": "markdown",
      "source": [
        "Inspiration: https://medium.com/mlearning-ai/text-clustering-with-tf-idf-in-python-c94cd26a31e7"
      ],
      "metadata": {
        "id": "s6-70eVbSXPe"
      }
    },
    {
      "cell_type": "code",
      "source": [
        "def k_means(D, N):\n",
        "  # initialize kmeans with 3 centroids\n",
        "  kmeans = KMeans(n_clusters=N, random_state=42)\n",
        "  # fit the model\n",
        "  kmeans.fit(D)\n",
        "  # store cluster labels in a variable\n",
        "  clusters = kmeans.labels_\n",
        "\n",
        "  return clusters"
      ],
      "metadata": {
        "id": "M26RTE_SQmeQ"
      },
      "execution_count": null,
      "outputs": []
    },
    {
      "cell_type": "code",
      "source": [
        "\n",
        "def spherical_k_means(D, N):\n",
        "  # initialize kmeans with 3 centroids\n",
        "  kmeans = AgglomerativeClustering(n_clusters=N, affinity='cosine', linkage='average')\n",
        "  # fit the model\n",
        "  kmeans.fit(D)\n",
        "  # store cluster labels in a variable\n",
        "  clusters = kmeans.labels_\n",
        "\n",
        "  return clusters"
      ],
      "metadata": {
        "id": "5SC2971JIfjV"
      },
      "execution_count": null,
      "outputs": []
    },
    {
      "cell_type": "code",
      "source": [
        "D_no_zeros = D[~np.all(D == 0, axis=1)]\n"
      ],
      "metadata": {
        "id": "StZUiejhL73e"
      },
      "execution_count": null,
      "outputs": []
    },
    {
      "cell_type": "code",
      "source": [
        "plot_elbow(D)"
      ],
      "metadata": {
        "colab": {
          "base_uri": "https://localhost:8080/",
          "height": 408
        },
        "id": "X-gwliNjQH31",
        "outputId": "21bc377c-7ac1-4c3f-b859-90d8d25386ec"
      },
      "execution_count": null,
      "outputs": [
        {
          "output_type": "stream",
          "name": "stdout",
          "text": [
            "[643.191901475516, 634.2163498872342, 627.3930184403321, 627.9137478498903, 612.528974421007, 609.7537439483868, 612.4680284385361, 602.7650514628097]\n"
          ]
        },
        {
          "output_type": "display_data",
          "data": {
            "text/plain": [
              "<Figure size 432x432 with 1 Axes>"
            ],
            "image/png": "[encoded data removed]"
          },
          "metadata": {
            "needs_background": "light"
          }
        }
      ]
    },
    {
      "cell_type": "code",
      "source": [
        "plot_elbow(D_no_zeros, spherical=True)"
      ],
      "metadata": {
        "colab": {
          "base_uri": "https://localhost:8080/",
          "height": 426
        },
        "id": "V2fMnpoEQL5n",
        "outputId": "c85cc70f-7505-4c01-e67e-ddbdb455240a"
      },
      "execution_count": null,
      "outputs": [
        {
          "output_type": "stream",
          "name": "stdout",
          "text": [
            "[0.7918880558202508, 0.6598930952871577, 1.0290036387107504, 1.2713966617655905, 1.1754738347095237, 1.2548782494843735, 2.2584615033950595, 2.100307554644596]\n"
          ]
        },
        {
          "output_type": "display_data",
          "data": {
            "text/plain": [
              "<Figure size 432x432 with 1 Axes>"
            ],
            "image/png": "[encoded data removed]"
          },
          "metadata": {
            "needs_background": "light"
          }
        }
      ]
    },
    {
      "cell_type": "code",
      "source": [
        "clusters = k_means(D, 2)"
      ],
      "metadata": {
        "id": "Idx7hzJIGRq8"
      },
      "execution_count": null,
      "outputs": []
    },
    {
      "cell_type": "code",
      "source": [
        "clusters_spherical = spherical_k_means(D_no_zeros, 2)"
      ],
      "metadata": {
        "id": "9l33Xog7ONTG"
      },
      "execution_count": null,
      "outputs": []
    },
    {
      "cell_type": "code",
      "source": [
        "unique, counts = np.unique(clusters_spherical, return_counts=True)\n",
        "for i in range(len(unique)):\n",
        "  print(str(unique[i]) + \": \" + str(counts[i]))"
      ],
      "metadata": {
        "colab": {
          "base_uri": "https://localhost:8080/"
        },
        "id": "98ur-YPHmGXn",
        "outputId": "05b25abe-649a-463c-d9d0-abbdb2c796a4"
      },
      "execution_count": null,
      "outputs": [
        {
          "output_type": "stream",
          "name": "stdout",
          "text": [
            "0: 500\n",
            "1: 1\n"
          ]
        }
      ]
    },
    {
      "cell_type": "markdown",
      "source": [
        "## Performing Silhouette Analysis"
      ],
      "metadata": {
        "id": "uJ5Zr9tcrZLw"
      }
    },
    {
      "cell_type": "markdown",
      "source": [
        "Inspiration: https://towardsdatascience.com/k-means-clustering-algorithm-applications-evaluation-methods-and-drawbacks-aa03e644b48a"
      ],
      "metadata": {
        "id": "xa4FJgIcrfGK"
      }
    },
    {
      "cell_type": "markdown",
      "source": [
        "Therefore, we want the coefficients to be as big as possible and close to 1 to have a good clusters."
      ],
      "metadata": {
        "id": "6bjkqBYrrlYP"
      }
    },
    {
      "cell_type": "code",
      "source": [
        "from sklearn.datasets import make_blobs\n",
        "from sklearn.cluster import KMeans\n",
        "from sklearn.metrics import silhouette_samples, silhouette_score\n",
        "import matplotlib.cm as cm\n",
        "\n",
        "\n",
        "def silhouette_analysis(D, spherical=False):\n",
        "\n",
        "  list_k = list(range(2, 10))\n",
        "\n",
        "  for k in list_k:\n",
        "    if not spherical:\n",
        "      clusterer = KMeans(n_clusters=k, random_state=10)\n",
        "      cluster_labels = clusterer.fit_predict(D)\n",
        "    else:\n",
        "      cluster_labels = spherical_k_means(D, k)\n",
        "    silhouette_avg = silhouette_score(D, cluster_labels)\n",
        "    print(\"For n_clusters = \" + str(k) + \" The average silhouette_score is :\" + str(silhouette_avg))\n",
        "\n",
        "\n",
        "    \n"
      ],
      "metadata": {
        "id": "re6-sqMOsdrE"
      },
      "execution_count": null,
      "outputs": []
    },
    {
      "cell_type": "code",
      "source": [
        "silhouette_analysis(D)"
      ],
      "metadata": {
        "colab": {
          "base_uri": "https://localhost:8080/"
        },
        "id": "ivj9EqaYu45w",
        "outputId": "9dd16609-ef24-47a7-c887-d93a9dc6b87f"
      },
      "execution_count": null,
      "outputs": [
        {
          "output_type": "stream",
          "name": "stdout",
          "text": [
            "For n_clusters = 2 The average silhouette_score is :0.5794814162173964\n",
            "For n_clusters = 3 The average silhouette_score is :0.3578298400068095\n",
            "For n_clusters = 4 The average silhouette_score is :0.01683461416995387\n",
            "For n_clusters = 5 The average silhouette_score is :0.026387867687630538\n",
            "For n_clusters = 6 The average silhouette_score is :0.17931639822830306\n",
            "For n_clusters = 7 The average silhouette_score is :-0.029999891251633524\n",
            "For n_clusters = 8 The average silhouette_score is :-0.025961114172047987\n",
            "For n_clusters = 9 The average silhouette_score is :0.033932072804295395\n"
          ]
        }
      ]
    },
    {
      "cell_type": "code",
      "source": [
        "silhouette_analysis(D_no_zeros)"
      ],
      "metadata": {
        "colab": {
          "base_uri": "https://localhost:8080/"
        },
        "id": "XtgQrE93SX26",
        "outputId": "de42be3a-f4a3-4c02-f556-7175cf785393"
      },
      "execution_count": null,
      "outputs": [
        {
          "output_type": "stream",
          "name": "stdout",
          "text": [
            "For n_clusters = 2 The average silhouette_score is :0.5789859537779637\n",
            "For n_clusters = 3 The average silhouette_score is :0.3571353329836654\n",
            "For n_clusters = 4 The average silhouette_score is :0.016146217458407715\n",
            "For n_clusters = 5 The average silhouette_score is :0.05663181764969273\n",
            "For n_clusters = 6 The average silhouette_score is :0.09316409274794091\n",
            "For n_clusters = 7 The average silhouette_score is :-0.11120321063929613\n",
            "For n_clusters = 8 The average silhouette_score is :0.03551358167741828\n",
            "For n_clusters = 9 The average silhouette_score is :0.0618959705227541\n"
          ]
        }
      ]
    },
    {
      "cell_type": "code",
      "source": [
        "def visualize_silhouette(D, spherical=False):\n",
        "  list_k = list(range(2, 9))\n",
        "\n",
        "  for k in list_k:\n",
        "\n",
        "    fig = plt.figure(figsize=(8, 6))\n",
        "    plt.xlim([-0.1, 1])\n",
        "    plt.ylim([0, len(D) + (k + 1) * 10])\n",
        "\n",
        "    if not spherical:\n",
        "      clusterer = KMeans(n_clusters=k, random_state=10)\n",
        "      cluster_labels = clusterer.fit_predict(D)\n",
        "\n",
        "    else:\n",
        "      cluster_labels = spherical_k_means(D, k)\n",
        "\n",
        "\n",
        "    silhouette_avg = silhouette_score(D, cluster_labels)\n",
        "    sample_silhouette_values = silhouette_samples(D, cluster_labels)\n",
        "\n",
        "    y_lower = 10\n",
        "    for i in range(k):\n",
        "      ith_cluster_silhouette_values = sample_silhouette_values[cluster_labels == i]\n",
        "      ith_cluster_silhouette_values.sort()\n",
        "      size_cluster_i = ith_cluster_silhouette_values.shape[0]\n",
        "      y_upper = y_lower + size_cluster_i\n",
        "\n",
        "      color = cm.nipy_spectral(float(i) / k)\n",
        "\n",
        "      plt.fill_betweenx(\n",
        "          np.arange(y_lower, y_upper),\n",
        "          0,\n",
        "          ith_cluster_silhouette_values,\n",
        "          facecolor=color,\n",
        "          edgecolor=color,\n",
        "          alpha=0.7)\n",
        "\n",
        "      plt.text(-0.05, y_lower + 0.5 * size_cluster_i, str(i))\n",
        "\n",
        "      y_lower = y_upper + 10  # 10 for the 0 samples\n",
        "\n",
        "    plt.title(\"The silhouette plot for k = \" + str(k))\n",
        "    plt.xlabel(\"The silhouette coefficient values\")\n",
        "    plt.ylabel(\"Cluster label\")\n",
        "\n",
        "    plt.axvline(x=silhouette_avg, color=\"red\", linestyle=\"--\")\n",
        "\n",
        "    plt.yticks([])  # Clear the yaxis labels / ticks\n",
        "    plt.xticks([-0.1, 0, 0.2, 0.4, 0.6, 0.8, 1])\n",
        "\n",
        "  plt.show()\n",
        "\n",
        "    \n",
        "\n",
        "\n",
        "\n"
      ],
      "metadata": {
        "id": "ju8tKpXXvmVX"
      },
      "execution_count": null,
      "outputs": []
    },
    {
      "cell_type": "code",
      "source": [
        "visualize_silhouette(D)"
      ],
      "metadata": {
        "colab": {
          "base_uri": "https://localhost:8080/",
          "height": 1000
        },
        "id": "rjlFVMQXyfpd",
        "outputId": "73f45505-9077-4d5f-d616-3c59d3256cbf"
      },
      "execution_count": null,
      "outputs": [
        {
          "output_type": "display_data",
          "data": {
            "text/plain": [
              "<Figure size 576x432 with 1 Axes>"
            ],
            "image/png": "[encoded data removed]"
          },
          "metadata": {
            "needs_background": "light"
          }
        },
        {
          "output_type": "display_data",
          "data": {
            "text/plain": [
              "<Figure size 576x432 with 1 Axes>"
            ],
            "image/png": "[encoded data removed]"
          },
          "metadata": {
            "needs_background": "light"
          }
        },
        {
          "output_type": "display_data",
          "data": {
            "text/plain": [
              "<Figure size 576x432 with 1 Axes>"
            ],
            "image/png": "[encoded data removed]"
          },
          "metadata": {
            "needs_background": "light"
          }
        },
        {
          "output_type": "display_data",
          "data": {
            "text/plain": [
              "<Figure size 576x432 with 1 Axes>"
            ],
            "image/png": "[encoded data removed]"
          },
          "metadata": {
            "needs_background": "light"
          }
        },
        {
          "output_type": "display_data",
          "data": {
            "text/plain": [
              "<Figure size 576x432 with 1 Axes>"
            ],
            "image/png": "[encoded data removed]"
          },
          "metadata": {
            "needs_background": "light"
          }
        },
        {
          "output_type": "display_data",
          "data": {
            "text/plain": [
              "<Figure size 576x432 with 1 Axes>"
            ],
            "image/png": "[encoded data removed]"
          },
          "metadata": {
            "needs_background": "light"
          }
        },
        {
          "output_type": "display_data",
          "data": {
            "text/plain": [
              "<Figure size 576x432 with 1 Axes>"
            ],
            "image/png": "[encoded data removed]"
          },
          "metadata": {
            "needs_background": "light"
          }
        }
      ]
    },
    {
      "cell_type": "code",
      "source": [
        "visualize_silhouette(D_no_zeros, spherical = True)"
      ],
      "metadata": {
        "colab": {
          "base_uri": "https://localhost:8080/",
          "height": 1000
        },
        "id": "DSF_a4LFRdF6",
        "outputId": "40daf15f-9134-427f-df73-221d7dbcd309"
      },
      "execution_count": null,
      "outputs": [
        {
          "output_type": "display_data",
          "data": {
            "text/plain": [
              "<Figure size 576x432 with 1 Axes>"
            ],
            "image/png": "[encoded data removed]"
          },
          "metadata": {
            "needs_background": "light"
          }
        },
        {
          "output_type": "display_data",
          "data": {
            "text/plain": [
              "<Figure size 576x432 with 1 Axes>"
            ],
            "image/png": "[encoded data removed]"
          },
          "metadata": {
            "needs_background": "light"
          }
        },
        {
          "output_type": "display_data",
          "data": {
            "text/plain": [
              "<Figure size 576x432 with 1 Axes>"
            ],
            "image/png": "[encoded data removed]"
          },
          "metadata": {
            "needs_background": "light"
          }
        },
        {
          "output_type": "display_data",
          "data": {
            "text/plain": [
              "<Figure size 576x432 with 1 Axes>"
            ],
            "image/png": "[encoded data removed]"
          },
          "metadata": {
            "needs_background": "light"
          }
        },
        {
          "output_type": "display_data",
          "data": {
            "text/plain": [
              "<Figure size 576x432 with 1 Axes>"
            ],
            "image/png": "[encoded data removed]"
          },
          "metadata": {
            "needs_background": "light"
          }
        },
        {
          "output_type": "display_data",
          "data": {
            "text/plain": [
              "<Figure size 576x432 with 1 Axes>"
            ],
            "image/png": "[encoded data removed]"
          },
          "metadata": {
            "needs_background": "light"
          }
        },
        {
          "output_type": "display_data",
          "data": {
            "text/plain": [
              "<Figure size 576x432 with 1 Axes>"
            ],
            "image/png": "[encoded data removed]"
          },
          "metadata": {
            "needs_background": "light"
          }
        }
      ]
    },
    {
      "cell_type": "markdown",
      "source": [
        "## Apply PCA"
      ],
      "metadata": {
        "id": "SXVJRG-3R7rD"
      }
    },
    {
      "cell_type": "code",
      "source": [
        "from sklearn.decomposition import PCA\n",
        "\n",
        "\n",
        "def apply_pca(D):\n",
        "  # initialize PCA with 2 components\n",
        "  pca = PCA(n_components=2, random_state=42)\n",
        "  # pass our X to the pca and store the reduced vectors into pca_vecs\n",
        "  pca_vecs = pca.fit_transform(D)\n",
        "  # save our two dimensions into x0 and x1\n",
        "  x0 = pca_vecs[:, 0]\n",
        "  x1 = pca_vecs[:, 1]\n",
        "\n",
        "  return x0, x1"
      ],
      "metadata": {
        "id": "lWt9cms5RjtX"
      },
      "execution_count": null,
      "outputs": []
    },
    {
      "cell_type": "code",
      "source": [
        "x0, x1 = apply_pca(D)"
      ],
      "metadata": {
        "id": "kqQQJlpBGblh"
      },
      "execution_count": null,
      "outputs": []
    },
    {
      "cell_type": "code",
      "source": [
        "x0.shape"
      ],
      "metadata": {
        "colab": {
          "base_uri": "https://localhost:8080/"
        },
        "id": "Ye4EuSCSSAY_",
        "outputId": "88de1b96-3d79-46c2-ada5-4b5de110d3b0"
      },
      "execution_count": null,
      "outputs": [
        {
          "output_type": "execute_result",
          "data": {
            "text/plain": [
              "(502,)"
            ]
          },
          "metadata": {},
          "execution_count": 56
        }
      ]
    },
    {
      "cell_type": "code",
      "source": [
        "aldf['clusters'] = clusters\n",
        "aldf['x0'] = x0\n",
        "aldf['x1'] = x1"
      ],
      "metadata": {
        "id": "Rt69v1LpSDut"
      },
      "execution_count": null,
      "outputs": []
    },
    {
      "cell_type": "code",
      "source": [
        "articles = { 'title': titles_al, 'content': docs_al, 'cluster': clusters, 'x0': x0, 'x1': x1 }\n",
        "frame = pd.DataFrame(articles, index = [clusters] , columns = ['title', 'content', 'cluster', 'x0', 'x1'])"
      ],
      "metadata": {
        "id": "KZE9RcEngYjX"
      },
      "execution_count": null,
      "outputs": []
    },
    {
      "cell_type": "code",
      "source": [
        "frame.head()"
      ],
      "metadata": {
        "colab": {
          "base_uri": "https://localhost:8080/",
          "height": 206
        },
        "id": "IQ0XViFGg_yL",
        "outputId": "9ec41482-6635-49ba-8bc1-634e7c484d9b"
      },
      "execution_count": null,
      "outputs": [
        {
          "output_type": "execute_result",
          "data": {
            "text/plain": [
              "                                     title  \\\n",
              "1          [court, convicts, video, arson]   \n",
              "1  [new, rules, foreigners, stir, outrage]   \n",
              "1                      [raid, jenin, camp]   \n",
              "1                                   [raid]   \n",
              "1                         [role, mediator]   \n",
              "\n",
              "                                             content  cluster        x0  \\\n",
              "1  [court, men, terror, slew, charges, involvemen...        1 -0.007125   \n",
              "1  [legal, experts, academics, digital, outrage, ...        1 -0.006227   \n",
              "1      [dead, teenager, raid, jenin, area, northern]        1 -0.013005   \n",
              "1  [raid, aqabet, jaber, refugee, camp, jericho, ...        1 -0.010277   \n",
              "1                            [tensions, past, weeks]        1 -0.007535   \n",
              "\n",
              "         x1  \n",
              "1 -0.006710  \n",
              "1 -0.002449  \n",
              "1 -0.005420  \n",
              "1 -0.003512  \n",
              "1 -0.002856  "
            ],
            "text/html": [
              "\n",
              "  <div id=\"df-687193e2-d24a-4eca-9da1-ee1ed061e984\">\n",
              "    <div class=\"colab-df-container\">\n",
              "      <div>\n",
              "<style scoped>\n",
              "    .dataframe tbody tr th:only-of-type {\n",
              "        vertical-align: middle;\n",
              "    }\n",
              "\n",
              "    .dataframe tbody tr th {\n",
              "        vertical-align: top;\n",
              "    }\n",
              "\n",
              "    .dataframe thead th {\n",
              "        text-align: right;\n",
              "    }\n",
              "</style>\n",
              "<table border=\"1\" class=\"dataframe\">\n",
              "  <thead>\n",
              "    <tr style=\"text-align: right;\">\n",
              "      <th></th>\n",
              "      <th>title</th>\n",
              "      <th>content</th>\n",
              "      <th>cluster</th>\n",
              "      <th>x0</th>\n",
              "      <th>x1</th>\n",
              "    </tr>\n",
              "  </thead>\n",
              "  <tbody>\n",
              "    <tr>\n",
              "      <th>1</th>\n",
              "      <td>[court, convicts, video, arson]</td>\n",
              "      <td>[court, men, terror, slew, charges, involvemen...</td>\n",
              "      <td>1</td>\n",
              "      <td>-0.007125</td>\n",
              "      <td>-0.006710</td>\n",
              "    </tr>\n",
              "    <tr>\n",
              "      <th>1</th>\n",
              "      <td>[new, rules, foreigners, stir, outrage]</td>\n",
              "      <td>[legal, experts, academics, digital, outrage, ...</td>\n",
              "      <td>1</td>\n",
              "      <td>-0.006227</td>\n",
              "      <td>-0.002449</td>\n",
              "    </tr>\n",
              "    <tr>\n",
              "      <th>1</th>\n",
              "      <td>[raid, jenin, camp]</td>\n",
              "      <td>[dead, teenager, raid, jenin, area, northern]</td>\n",
              "      <td>1</td>\n",
              "      <td>-0.013005</td>\n",
              "      <td>-0.005420</td>\n",
              "    </tr>\n",
              "    <tr>\n",
              "      <th>1</th>\n",
              "      <td>[raid]</td>\n",
              "      <td>[raid, aqabet, jaber, refugee, camp, jericho, ...</td>\n",
              "      <td>1</td>\n",
              "      <td>-0.010277</td>\n",
              "      <td>-0.003512</td>\n",
              "    </tr>\n",
              "    <tr>\n",
              "      <th>1</th>\n",
              "      <td>[role, mediator]</td>\n",
              "      <td>[tensions, past, weeks]</td>\n",
              "      <td>1</td>\n",
              "      <td>-0.007535</td>\n",
              "      <td>-0.002856</td>\n",
              "    </tr>\n",
              "  </tbody>\n",
              "</table>\n",
              "</div>\n",
              "      <button class=\"colab-df-convert\" onclick=\"convertToInteractive('df-687193e2-d24a-4eca-9da1-ee1ed061e984')\"\n",
              "              title=\"Convert this dataframe to an interactive table.\"\n",
              "              style=\"display:none;\">\n",
              "        \n",
              "  <svg xmlns=\"http://www.w3.org/2000/svg\" height=\"24px\"viewBox=\"0 0 24 24\"\n",
              "       width=\"24px\">\n",
              "    <path d=\"M0 0h24v24H0V0z\" fill=\"none\"/>\n",
              "    <path d=\"M18.56 5.44l.94 2.06.94-2.06 2.06-.94-2.06-.94-.94-2.06-.94 2.06-2.06.94zm-11 1L8.5 8.5l.94-2.06 2.06-.94-2.06-.94L8.5 2.5l-.94 2.06-2.06.94zm10 10l.94 2.06.94-2.06 2.06-.94-2.06-.94-.94-2.06-.94 2.06-2.06.94z\"/><path d=\"M17.41 7.96l-1.37-1.37c-.4-.4-.92-.59-1.43-.59-.52 0-1.04.2-1.43.59L10.3 9.45l-7.72 7.72c-.78.78-.78 2.05 0 2.83L4 21.41c.39.39.9.59 1.41.59.51 0 1.02-.2 1.41-.59l7.78-7.78 2.81-2.81c.8-.78.8-2.07 0-2.86zM5.41 20L4 18.59l7.72-7.72 1.47 1.35L5.41 20z\"/>\n",
              "  </svg>\n",
              "      </button>\n",
              "      \n",
              "  <style>\n",
              "    .colab-df-container {\n",
              "      display:flex;\n",
              "      flex-wrap:wrap;\n",
              "      gap: 12px;\n",
              "    }\n",
              "\n",
              "    .colab-df-convert {\n",
              "      background-color: #E8F0FE;\n",
              "      border: none;\n",
              "      border-radius: 50%;\n",
              "      cursor: pointer;\n",
              "      display: none;\n",
              "      fill: #1967D2;\n",
              "      height: 32px;\n",
              "      padding: 0 0 0 0;\n",
              "      width: 32px;\n",
              "    }\n",
              "\n",
              "    .colab-df-convert:hover {\n",
              "      background-color: #E2EBFA;\n",
              "      box-shadow: 0px 1px 2px rgba(60, 64, 67, 0.3), 0px 1px 3px 1px rgba(60, 64, 67, 0.15);\n",
              "      fill: #174EA6;\n",
              "    }\n",
              "\n",
              "    [theme=dark] .colab-df-convert {\n",
              "      background-color: #3B4455;\n",
              "      fill: #D2E3FC;\n",
              "    }\n",
              "\n",
              "    [theme=dark] .colab-df-convert:hover {\n",
              "      background-color: #434B5C;\n",
              "      box-shadow: 0px 1px 3px 1px rgba(0, 0, 0, 0.15);\n",
              "      filter: drop-shadow(0px 1px 2px rgba(0, 0, 0, 0.3));\n",
              "      fill: #FFFFFF;\n",
              "    }\n",
              "  </style>\n",
              "\n",
              "      <script>\n",
              "        const buttonEl =\n",
              "          document.querySelector('#df-687193e2-d24a-4eca-9da1-ee1ed061e984 button.colab-df-convert');\n",
              "        buttonEl.style.display =\n",
              "          google.colab.kernel.accessAllowed ? 'block' : 'none';\n",
              "\n",
              "        async function convertToInteractive(key) {\n",
              "          const element = document.querySelector('#df-687193e2-d24a-4eca-9da1-ee1ed061e984');\n",
              "          const dataTable =\n",
              "            await google.colab.kernel.invokeFunction('convertToInteractive',\n",
              "                                                     [key], {});\n",
              "          if (!dataTable) return;\n",
              "\n",
              "          const docLinkHtml = 'Like what you see? Visit the ' +\n",
              "            '<a target=\"_blank\" href=https://colab.research.google.com/notebooks/data_table.ipynb>data table notebook</a>'\n",
              "            + ' to learn more about interactive tables.';\n",
              "          element.innerHTML = '';\n",
              "          dataTable['output_type'] = 'display_data';\n",
              "          await google.colab.output.renderOutput(dataTable, element);\n",
              "          const docLink = document.createElement('div');\n",
              "          docLink.innerHTML = docLinkHtml;\n",
              "          element.appendChild(docLink);\n",
              "        }\n",
              "      </script>\n",
              "    </div>\n",
              "  </div>\n",
              "  "
            ]
          },
          "metadata": {},
          "execution_count": 59
        }
      ]
    },
    {
      "cell_type": "code",
      "source": [
        "frame['cluster'].value_counts() "
      ],
      "metadata": {
        "colab": {
          "base_uri": "https://localhost:8080/"
        },
        "id": "k5tEdwAVhEYO",
        "outputId": "c2a81c9d-0f81-42ad-ebcd-7bd5c4d688c8"
      },
      "execution_count": null,
      "outputs": [
        {
          "output_type": "execute_result",
          "data": {
            "text/plain": [
              "1    501\n",
              "0      1\n",
              "Name: cluster, dtype: int64"
            ]
          },
          "metadata": {},
          "execution_count": 60
        }
      ]
    },
    {
      "cell_type": "code",
      "source": [
        "grouped = frame['title'].groupby(frame['cluster'])"
      ],
      "metadata": {
        "id": "CGp-V83ThQtz"
      },
      "execution_count": null,
      "outputs": []
    },
    {
      "cell_type": "code",
      "source": [
        "def get_top_keywords(D, clusters, n):\n",
        "    \"\"\"This function returns the keywords for each centroid of the KMeans\"\"\"\n",
        "    df = pd.DataFrame(D).groupby(clusters).mean() # groups the TF-IDF vector by cluster\n",
        "    for i,r in df.iterrows():\n",
        "        print('\\nCluster {}'.format(i))\n",
        "        print(','.join([total_vocab[t] for t in np.argsort(r)[-n:]])) # for each row of the dataframe, find the n terms that have the highest tf idf score\n",
        "            \n"
      ],
      "metadata": {
        "id": "c8iP2ztsSacw"
      },
      "execution_count": null,
      "outputs": []
    },
    {
      "cell_type": "code",
      "source": [
        "get_top_keywords(D, clusters, 10)"
      ],
      "metadata": {
        "colab": {
          "base_uri": "https://localhost:8080/"
        },
        "id": "3ZsmGCYQqEFJ",
        "outputId": "1e769632-9247-4c83-fe5f-4badc50eab9d"
      },
      "execution_count": null,
      "outputs": [
        {
          "output_type": "stream",
          "name": "stdout",
          "text": [
            "\n",
            "Cluster 0\n",
            "rule,participate,flags,quarter,warnings,year,time,refugees,unrwa,race\n",
            "\n",
            "Cluster 1\n",
            "troops,boy,prisoner,family,mosque,protest,attacks,death,sheikh,attack\n"
          ]
        }
      ]
    },
    {
      "cell_type": "code",
      "source": [
        "get_top_keywords(D_no_zeros, clusters_spherical, 10)"
      ],
      "metadata": {
        "colab": {
          "base_uri": "https://localhost:8080/"
        },
        "id": "xg90ZPvqOYVV",
        "outputId": "771fce56-be31-40aa-e7fb-7c483b853e8c"
      },
      "execution_count": null,
      "outputs": [
        {
          "output_type": "stream",
          "name": "stdout",
          "text": [
            "\n",
            "Cluster 0\n",
            "troops,boy,prisoner,family,mosque,protest,attacks,death,sheikh,attack\n",
            "\n",
            "Cluster 1\n",
            "choi,juyoung,swimming,nothing,avoid,coast,sea,waters,sewage,raw\n"
          ]
        }
      ]
    },
    {
      "cell_type": "code",
      "source": [
        "import seaborn as sns\n",
        "\n",
        "def plot_2d(df, spherical = False):\n",
        "  # set image size\n",
        "  plt.figure(figsize=(12, 7))\n",
        "  # set a title\n",
        "  plt.title(\"TF-IDF + KMeans\", fontdict={\"fontsize\": 18})\n",
        "  # set axes names\n",
        "  plt.xlabel(\"X0\", fontdict={\"fontsize\": 16})\n",
        "  plt.ylabel(\"X1\", fontdict={\"fontsize\": 16})\n",
        "  # create scatter plot with seaborn, where hue is the class used to group the data\n",
        "  sns.scatterplot(data=df, x='x0', y='x1', hue='clusters', palette=\"viridis\")\n",
        "  plt.show()"
      ],
      "metadata": {
        "id": "8u4NPQK6TUm8"
      },
      "execution_count": null,
      "outputs": []
    },
    {
      "cell_type": "code",
      "source": [
        "plot_2d(aldf)"
      ],
      "metadata": {
        "colab": {
          "base_uri": "https://localhost:8080/",
          "height": 467
        },
        "id": "_k-nu8-7Gm6a",
        "outputId": "16c8170f-b5c4-4940-bf38-06f1c40974f9"
      },
      "execution_count": null,
      "outputs": [
        {
          "output_type": "display_data",
          "data": {
            "text/plain": [
              "<Figure size 864x504 with 1 Axes>"
            ],
            "image/png": "[encoded data removed]"
          },
          "metadata": {
            "needs_background": "light"
          }
        }
      ]
    },
    {
      "cell_type": "code",
      "source": [
        "x0_s, x1_s = apply_pca(D_no_zeros)"
      ],
      "metadata": {
        "id": "3IHAe4UyrhGo"
      },
      "execution_count": null,
      "outputs": []
    },
    {
      "cell_type": "code",
      "source": [
        "new_frame_cols = {'x0': x0_s, 'x1': x1_s, 'clusters': clusters_spherical }\n",
        "frame = pd.DataFrame(new_frame_cols, columns = ['x0', 'x1', 'clusters'])"
      ],
      "metadata": {
        "id": "pSFR-XfdrltG"
      },
      "execution_count": null,
      "outputs": []
    },
    {
      "cell_type": "code",
      "source": [
        "plot_2d(frame)"
      ],
      "metadata": {
        "colab": {
          "base_uri": "https://localhost:8080/",
          "height": 467
        },
        "id": "4kg2nTM5r7QT",
        "outputId": "248f1885-79dc-41f3-bb9f-bb2e4861a06d"
      },
      "execution_count": null,
      "outputs": [
        {
          "output_type": "display_data",
          "data": {
            "text/plain": [
              "<Figure size 864x504 with 1 Axes>"
            ],
            "image/png": "[encoded data removed]"
          },
          "metadata": {
            "needs_background": "light"
          }
        }
      ]
    },
    {
      "cell_type": "markdown",
      "source": [
        "# CNN "
      ],
      "metadata": {
        "id": "h1WAumJhB6hC"
      }
    },
    {
      "cell_type": "code",
      "source": [
        "filename = 'drive/My Drive/SML310/cnn50all.csv'\n",
        "cnndf = pd.read_csv(filename)"
      ],
      "metadata": {
        "id": "pDeb9a0bkS4y"
      },
      "execution_count": null,
      "outputs": []
    },
    {
      "cell_type": "code",
      "source": [
        "for i in range(len(cnndf['u-time'])):\n",
        "  cnndf['u-time'][i] = re.sub(\"^(.+?),\", '', str(cnndf['u-time'][i]))"
      ],
      "metadata": {
        "id": "RIezTv-rB92j"
      },
      "execution_count": null,
      "outputs": []
    },
    {
      "cell_type": "code",
      "source": [
        "cnndf.head()"
      ],
      "metadata": {
        "colab": {
          "base_uri": "https://localhost:8080/",
          "height": 206
        },
        "id": "Kzi_sMVXCBQu",
        "outputId": "636eae34-9804-4ec7-b36c-801b162bf3ff"
      },
      "execution_count": null,
      "outputs": [
        {
          "output_type": "execute_result",
          "data": {
            "text/plain": [
              "                                               title                   u-time  \\\n",
              "0                 April 19, 2022 Russia-Ukraine news                      nan   \n",
              "1  Amnesty accuses Israel of apartheid over treat...    Wed February 2, 2022    \n",
              "2  What one meeting in Israel says about a changi...                      nan   \n",
              "3  UK anti-Semitism reaches record high in 2021, ...    Wed February 9, 2022    \n",
              "4  How to start the Mediterranean diet — meal by ...   Tue December 28, 2021    \n",
              "\n",
              "                                             content  \n",
              "0                                                NaN  \n",
              "1  Jerusalem (CNN)Amnesty International has becom...  \n",
              "2  Jerusalem (CNN)There have been a lot of \"first...  \n",
              "3        London (CNN)More incidents of anti-Semitism  \n",
              "4  Sign up for CNN's Eat, But Better: Mediterrane...  "
            ],
            "text/html": [
              "\n",
              "  <div id=\"df-78bdf464-a8e5-4e76-b8bc-0ba93585fed8\">\n",
              "    <div class=\"colab-df-container\">\n",
              "      <div>\n",
              "<style scoped>\n",
              "    .dataframe tbody tr th:only-of-type {\n",
              "        vertical-align: middle;\n",
              "    }\n",
              "\n",
              "    .dataframe tbody tr th {\n",
              "        vertical-align: top;\n",
              "    }\n",
              "\n",
              "    .dataframe thead th {\n",
              "        text-align: right;\n",
              "    }\n",
              "</style>\n",
              "<table border=\"1\" class=\"dataframe\">\n",
              "  <thead>\n",
              "    <tr style=\"text-align: right;\">\n",
              "      <th></th>\n",
              "      <th>title</th>\n",
              "      <th>u-time</th>\n",
              "      <th>content</th>\n",
              "    </tr>\n",
              "  </thead>\n",
              "  <tbody>\n",
              "    <tr>\n",
              "      <th>0</th>\n",
              "      <td>April 19, 2022 Russia-Ukraine news</td>\n",
              "      <td>nan</td>\n",
              "      <td>NaN</td>\n",
              "    </tr>\n",
              "    <tr>\n",
              "      <th>1</th>\n",
              "      <td>Amnesty accuses Israel of apartheid over treat...</td>\n",
              "      <td>Wed February 2, 2022</td>\n",
              "      <td>Jerusalem (CNN)Amnesty International has becom...</td>\n",
              "    </tr>\n",
              "    <tr>\n",
              "      <th>2</th>\n",
              "      <td>What one meeting in Israel says about a changi...</td>\n",
              "      <td>nan</td>\n",
              "      <td>Jerusalem (CNN)There have been a lot of \"first...</td>\n",
              "    </tr>\n",
              "    <tr>\n",
              "      <th>3</th>\n",
              "      <td>UK anti-Semitism reaches record high in 2021, ...</td>\n",
              "      <td>Wed February 9, 2022</td>\n",
              "      <td>London (CNN)More incidents of anti-Semitism</td>\n",
              "    </tr>\n",
              "    <tr>\n",
              "      <th>4</th>\n",
              "      <td>How to start the Mediterranean diet — meal by ...</td>\n",
              "      <td>Tue December 28, 2021</td>\n",
              "      <td>Sign up for CNN's Eat, But Better: Mediterrane...</td>\n",
              "    </tr>\n",
              "  </tbody>\n",
              "</table>\n",
              "</div>\n",
              "      <button class=\"colab-df-convert\" onclick=\"convertToInteractive('df-78bdf464-a8e5-4e76-b8bc-0ba93585fed8')\"\n",
              "              title=\"Convert this dataframe to an interactive table.\"\n",
              "              style=\"display:none;\">\n",
              "        \n",
              "  <svg xmlns=\"http://www.w3.org/2000/svg\" height=\"24px\"viewBox=\"0 0 24 24\"\n",
              "       width=\"24px\">\n",
              "    <path d=\"M0 0h24v24H0V0z\" fill=\"none\"/>\n",
              "    <path d=\"M18.56 5.44l.94 2.06.94-2.06 2.06-.94-2.06-.94-.94-2.06-.94 2.06-2.06.94zm-11 1L8.5 8.5l.94-2.06 2.06-.94-2.06-.94L8.5 2.5l-.94 2.06-2.06.94zm10 10l.94 2.06.94-2.06 2.06-.94-2.06-.94-.94-2.06-.94 2.06-2.06.94z\"/><path d=\"M17.41 7.96l-1.37-1.37c-.4-.4-.92-.59-1.43-.59-.52 0-1.04.2-1.43.59L10.3 9.45l-7.72 7.72c-.78.78-.78 2.05 0 2.83L4 21.41c.39.39.9.59 1.41.59.51 0 1.02-.2 1.41-.59l7.78-7.78 2.81-2.81c.8-.78.8-2.07 0-2.86zM5.41 20L4 18.59l7.72-7.72 1.47 1.35L5.41 20z\"/>\n",
              "  </svg>\n",
              "      </button>\n",
              "      \n",
              "  <style>\n",
              "    .colab-df-container {\n",
              "      display:flex;\n",
              "      flex-wrap:wrap;\n",
              "      gap: 12px;\n",
              "    }\n",
              "\n",
              "    .colab-df-convert {\n",
              "      background-color: #E8F0FE;\n",
              "      border: none;\n",
              "      border-radius: 50%;\n",
              "      cursor: pointer;\n",
              "      display: none;\n",
              "      fill: #1967D2;\n",
              "      height: 32px;\n",
              "      padding: 0 0 0 0;\n",
              "      width: 32px;\n",
              "    }\n",
              "\n",
              "    .colab-df-convert:hover {\n",
              "      background-color: #E2EBFA;\n",
              "      box-shadow: 0px 1px 2px rgba(60, 64, 67, 0.3), 0px 1px 3px 1px rgba(60, 64, 67, 0.15);\n",
              "      fill: #174EA6;\n",
              "    }\n",
              "\n",
              "    [theme=dark] .colab-df-convert {\n",
              "      background-color: #3B4455;\n",
              "      fill: #D2E3FC;\n",
              "    }\n",
              "\n",
              "    [theme=dark] .colab-df-convert:hover {\n",
              "      background-color: #434B5C;\n",
              "      box-shadow: 0px 1px 3px 1px rgba(0, 0, 0, 0.15);\n",
              "      filter: drop-shadow(0px 1px 2px rgba(0, 0, 0, 0.3));\n",
              "      fill: #FFFFFF;\n",
              "    }\n",
              "  </style>\n",
              "\n",
              "      <script>\n",
              "        const buttonEl =\n",
              "          document.querySelector('#df-78bdf464-a8e5-4e76-b8bc-0ba93585fed8 button.colab-df-convert');\n",
              "        buttonEl.style.display =\n",
              "          google.colab.kernel.accessAllowed ? 'block' : 'none';\n",
              "\n",
              "        async function convertToInteractive(key) {\n",
              "          const element = document.querySelector('#df-78bdf464-a8e5-4e76-b8bc-0ba93585fed8');\n",
              "          const dataTable =\n",
              "            await google.colab.kernel.invokeFunction('convertToInteractive',\n",
              "                                                     [key], {});\n",
              "          if (!dataTable) return;\n",
              "\n",
              "          const docLinkHtml = 'Like what you see? Visit the ' +\n",
              "            '<a target=\"_blank\" href=https://colab.research.google.com/notebooks/data_table.ipynb>data table notebook</a>'\n",
              "            + ' to learn more about interactive tables.';\n",
              "          element.innerHTML = '';\n",
              "          dataTable['output_type'] = 'display_data';\n",
              "          await google.colab.output.renderOutput(dataTable, element);\n",
              "          const docLink = document.createElement('div');\n",
              "          docLink.innerHTML = docLinkHtml;\n",
              "          element.appendChild(docLink);\n",
              "        }\n",
              "      </script>\n",
              "    </div>\n",
              "  </div>\n",
              "  "
            ]
          },
          "metadata": {},
          "execution_count": 73
        }
      ]
    },
    {
      "cell_type": "code",
      "source": [
        "cnndf.dropna(subset=['title', 'content'], inplace=True)\n",
        "cnndf.reset_index(drop=True, inplace=True)"
      ],
      "metadata": {
        "id": "F8MmH2YtqLQj"
      },
      "execution_count": null,
      "outputs": []
    },
    {
      "cell_type": "code",
      "source": [
        "cnndf.head()"
      ],
      "metadata": {
        "colab": {
          "base_uri": "https://localhost:8080/",
          "height": 206
        },
        "id": "X7PO3OV9f9Jd",
        "outputId": "63e3119f-2079-4774-ee5a-589bfd1b0f63"
      },
      "execution_count": null,
      "outputs": [
        {
          "output_type": "execute_result",
          "data": {
            "text/plain": [
              "                                               title                   u-time  \\\n",
              "0  Amnesty accuses Israel of apartheid over treat...    Wed February 2, 2022    \n",
              "1  What one meeting in Israel says about a changi...                      nan   \n",
              "2  UK anti-Semitism reaches record high in 2021, ...    Wed February 9, 2022    \n",
              "3  How to start the Mediterranean diet — meal by ...   Tue December 28, 2021    \n",
              "4  As South Africa mourns Desmond Tutu, so do LGB...   Mon December 27, 2021    \n",
              "\n",
              "                                             content  \n",
              "0  Jerusalem (CNN)Amnesty International has becom...  \n",
              "1  Jerusalem (CNN)There have been a lot of \"first...  \n",
              "2        London (CNN)More incidents of anti-Semitism  \n",
              "3  Sign up for CNN's Eat, But Better: Mediterrane...  \n",
              "4   (CNN)On Monday, cathedral bells tolled at mid...  "
            ],
            "text/html": [
              "\n",
              "  <div id=\"df-c1139542-afde-490d-b0cf-7fc9b3337421\">\n",
              "    <div class=\"colab-df-container\">\n",
              "      <div>\n",
              "<style scoped>\n",
              "    .dataframe tbody tr th:only-of-type {\n",
              "        vertical-align: middle;\n",
              "    }\n",
              "\n",
              "    .dataframe tbody tr th {\n",
              "        vertical-align: top;\n",
              "    }\n",
              "\n",
              "    .dataframe thead th {\n",
              "        text-align: right;\n",
              "    }\n",
              "</style>\n",
              "<table border=\"1\" class=\"dataframe\">\n",
              "  <thead>\n",
              "    <tr style=\"text-align: right;\">\n",
              "      <th></th>\n",
              "      <th>title</th>\n",
              "      <th>u-time</th>\n",
              "      <th>content</th>\n",
              "    </tr>\n",
              "  </thead>\n",
              "  <tbody>\n",
              "    <tr>\n",
              "      <th>0</th>\n",
              "      <td>Amnesty accuses Israel of apartheid over treat...</td>\n",
              "      <td>Wed February 2, 2022</td>\n",
              "      <td>Jerusalem (CNN)Amnesty International has becom...</td>\n",
              "    </tr>\n",
              "    <tr>\n",
              "      <th>1</th>\n",
              "      <td>What one meeting in Israel says about a changi...</td>\n",
              "      <td>nan</td>\n",
              "      <td>Jerusalem (CNN)There have been a lot of \"first...</td>\n",
              "    </tr>\n",
              "    <tr>\n",
              "      <th>2</th>\n",
              "      <td>UK anti-Semitism reaches record high in 2021, ...</td>\n",
              "      <td>Wed February 9, 2022</td>\n",
              "      <td>London (CNN)More incidents of anti-Semitism</td>\n",
              "    </tr>\n",
              "    <tr>\n",
              "      <th>3</th>\n",
              "      <td>How to start the Mediterranean diet — meal by ...</td>\n",
              "      <td>Tue December 28, 2021</td>\n",
              "      <td>Sign up for CNN's Eat, But Better: Mediterrane...</td>\n",
              "    </tr>\n",
              "    <tr>\n",
              "      <th>4</th>\n",
              "      <td>As South Africa mourns Desmond Tutu, so do LGB...</td>\n",
              "      <td>Mon December 27, 2021</td>\n",
              "      <td>(CNN)On Monday, cathedral bells tolled at mid...</td>\n",
              "    </tr>\n",
              "  </tbody>\n",
              "</table>\n",
              "</div>\n",
              "      <button class=\"colab-df-convert\" onclick=\"convertToInteractive('df-c1139542-afde-490d-b0cf-7fc9b3337421')\"\n",
              "              title=\"Convert this dataframe to an interactive table.\"\n",
              "              style=\"display:none;\">\n",
              "        \n",
              "  <svg xmlns=\"http://www.w3.org/2000/svg\" height=\"24px\"viewBox=\"0 0 24 24\"\n",
              "       width=\"24px\">\n",
              "    <path d=\"M0 0h24v24H0V0z\" fill=\"none\"/>\n",
              "    <path d=\"M18.56 5.44l.94 2.06.94-2.06 2.06-.94-2.06-.94-.94-2.06-.94 2.06-2.06.94zm-11 1L8.5 8.5l.94-2.06 2.06-.94-2.06-.94L8.5 2.5l-.94 2.06-2.06.94zm10 10l.94 2.06.94-2.06 2.06-.94-2.06-.94-.94-2.06-.94 2.06-2.06.94z\"/><path d=\"M17.41 7.96l-1.37-1.37c-.4-.4-.92-.59-1.43-.59-.52 0-1.04.2-1.43.59L10.3 9.45l-7.72 7.72c-.78.78-.78 2.05 0 2.83L4 21.41c.39.39.9.59 1.41.59.51 0 1.02-.2 1.41-.59l7.78-7.78 2.81-2.81c.8-.78.8-2.07 0-2.86zM5.41 20L4 18.59l7.72-7.72 1.47 1.35L5.41 20z\"/>\n",
              "  </svg>\n",
              "      </button>\n",
              "      \n",
              "  <style>\n",
              "    .colab-df-container {\n",
              "      display:flex;\n",
              "      flex-wrap:wrap;\n",
              "      gap: 12px;\n",
              "    }\n",
              "\n",
              "    .colab-df-convert {\n",
              "      background-color: #E8F0FE;\n",
              "      border: none;\n",
              "      border-radius: 50%;\n",
              "      cursor: pointer;\n",
              "      display: none;\n",
              "      fill: #1967D2;\n",
              "      height: 32px;\n",
              "      padding: 0 0 0 0;\n",
              "      width: 32px;\n",
              "    }\n",
              "\n",
              "    .colab-df-convert:hover {\n",
              "      background-color: #E2EBFA;\n",
              "      box-shadow: 0px 1px 2px rgba(60, 64, 67, 0.3), 0px 1px 3px 1px rgba(60, 64, 67, 0.15);\n",
              "      fill: #174EA6;\n",
              "    }\n",
              "\n",
              "    [theme=dark] .colab-df-convert {\n",
              "      background-color: #3B4455;\n",
              "      fill: #D2E3FC;\n",
              "    }\n",
              "\n",
              "    [theme=dark] .colab-df-convert:hover {\n",
              "      background-color: #434B5C;\n",
              "      box-shadow: 0px 1px 3px 1px rgba(0, 0, 0, 0.15);\n",
              "      filter: drop-shadow(0px 1px 2px rgba(0, 0, 0, 0.3));\n",
              "      fill: #FFFFFF;\n",
              "    }\n",
              "  </style>\n",
              "\n",
              "      <script>\n",
              "        const buttonEl =\n",
              "          document.querySelector('#df-c1139542-afde-490d-b0cf-7fc9b3337421 button.colab-df-convert');\n",
              "        buttonEl.style.display =\n",
              "          google.colab.kernel.accessAllowed ? 'block' : 'none';\n",
              "\n",
              "        async function convertToInteractive(key) {\n",
              "          const element = document.querySelector('#df-c1139542-afde-490d-b0cf-7fc9b3337421');\n",
              "          const dataTable =\n",
              "            await google.colab.kernel.invokeFunction('convertToInteractive',\n",
              "                                                     [key], {});\n",
              "          if (!dataTable) return;\n",
              "\n",
              "          const docLinkHtml = 'Like what you see? Visit the ' +\n",
              "            '<a target=\"_blank\" href=https://colab.research.google.com/notebooks/data_table.ipynb>data table notebook</a>'\n",
              "            + ' to learn more about interactive tables.';\n",
              "          element.innerHTML = '';\n",
              "          dataTable['output_type'] = 'display_data';\n",
              "          await google.colab.output.renderOutput(dataTable, element);\n",
              "          const docLink = document.createElement('div');\n",
              "          docLink.innerHTML = docLinkHtml;\n",
              "          element.appendChild(docLink);\n",
              "        }\n",
              "      </script>\n",
              "    </div>\n",
              "  </div>\n",
              "  "
            ]
          },
          "metadata": {},
          "execution_count": 75
        }
      ]
    },
    {
      "cell_type": "code",
      "source": [
        "# Remove everything before first comma\n",
        "\n",
        "# for i in range(len(cnndf['content'])):\n",
        "#   cnndf['content'][i] = re.sub(\"^[^,]*,\", \"\", str(cnndf['content'][i]))"
      ],
      "metadata": {
        "id": "cRqA7LgmCEoJ"
      },
      "execution_count": null,
      "outputs": []
    },
    {
      "cell_type": "code",
      "source": [
        "# Remove everything before first closing bracket\n",
        "\n",
        "for i in range(len(df['content'])):\n",
        "  df['content'][i] = df['content'][i].split(')')[-1]\n",
        "\n"
      ],
      "metadata": {
        "id": "kJ6zHbV9rEjE"
      },
      "execution_count": null,
      "outputs": []
    },
    {
      "cell_type": "code",
      "source": [
        "len(cnndf)"
      ],
      "metadata": {
        "colab": {
          "base_uri": "https://localhost:8080/"
        },
        "id": "v14BUWaYtes1",
        "outputId": "a9e70a8e-0c2a-4968-fb7e-b7dbb5d4187a"
      },
      "execution_count": null,
      "outputs": [
        {
          "output_type": "execute_result",
          "data": {
            "text/plain": [
              "415"
            ]
          },
          "metadata": {},
          "execution_count": 78
        }
      ]
    },
    {
      "cell_type": "code",
      "source": [
        "docs_cnn = cnndf['content'].copy(deep=True)\n",
        "titles_cnn = cnndf['title'].copy(deep=True)"
      ],
      "metadata": {
        "id": "flGkGIZ8CKJY"
      },
      "execution_count": null,
      "outputs": []
    },
    {
      "cell_type": "code",
      "source": [
        "docs_cnn = tokenize(docs_cnn)\n",
        "docs_cnn = remove_stop(docs_cnn)\n",
        "docs_cnn = remove_N_common(docs_cnn, 30)\n",
        "docs_cnn = keep_pos(docs_cnn)"
      ],
      "metadata": {
        "id": "6LhBamPfCa8W"
      },
      "execution_count": null,
      "outputs": []
    },
    {
      "cell_type": "code",
      "source": [
        "titles_cnn = tokenize(titles_cnn)\n",
        "titles_cnn = remove_stop(titles_cnn)\n",
        "titles_cnn = remove_N_common(titles_cnn, 15)\n",
        "titles_cnn = keep_pos(titles_cnn)"
      ],
      "metadata": {
        "id": "-ISg59YYEExA"
      },
      "execution_count": null,
      "outputs": []
    },
    {
      "cell_type": "code",
      "source": [
        "DF_cnn = DF_count(docs_cnn, titles_cnn)\n"
      ],
      "metadata": {
        "id": "Al5W2SJqFhJW"
      },
      "execution_count": null,
      "outputs": []
    },
    {
      "cell_type": "code",
      "source": [
        "tfidf_docs_cnn = tf_idf(docs_cnn, titles_cnn, DF_cnn)\n",
        "tfidf_titles_cnn = tf_idf(titles_cnn, docs_cnn, DF_cnn)"
      ],
      "metadata": {
        "id": "sI_Ye_BRFqfO"
      },
      "execution_count": null,
      "outputs": []
    },
    {
      "cell_type": "code",
      "source": [
        "alpha = 0.3\n",
        "\n",
        "for i in tfidf_docs_cnn:\n",
        "    tfidf_docs_cnn[i] *= alpha\n",
        "\n",
        "for i in tfidf_titles_cnn:\n",
        "    tfidf_docs_cnn[i] = tfidf_titles_cnn[i]\n"
      ],
      "metadata": {
        "id": "TkSYC3XdF2Ln"
      },
      "execution_count": null,
      "outputs": []
    },
    {
      "cell_type": "code",
      "source": [
        "total_vocab_N = len(DF_cnn)\n",
        "N = len(docs_cnn)\n",
        "total_vocab = [x for x in DF_cnn]"
      ],
      "metadata": {
        "id": "XXXy1pDJF8-y"
      },
      "execution_count": null,
      "outputs": []
    },
    {
      "cell_type": "code",
      "source": [
        "D_cnn = np.zeros((N, total_vocab_N))\n",
        "\n",
        "for i in tfidf_docs_cnn:\n",
        "  try:\n",
        "      ind = total_vocab.index(i[1])\n",
        "      D_cnn[i[0]][ind] = tfidf_docs_cnn[i]\n",
        "  except:\n",
        "      pass"
      ],
      "metadata": {
        "id": "_3wOZsb3Iq-O"
      },
      "execution_count": null,
      "outputs": []
    },
    {
      "cell_type": "code",
      "source": [
        "D_cnn.shape"
      ],
      "metadata": {
        "colab": {
          "base_uri": "https://localhost:8080/"
        },
        "id": "behWTm6QtY7u",
        "outputId": "736d14c7-b915-496d-fbf9-95b3c3b6c305"
      },
      "execution_count": null,
      "outputs": [
        {
          "output_type": "execute_result",
          "data": {
            "text/plain": [
              "(415, 3304)"
            ]
          },
          "metadata": {},
          "execution_count": 87
        }
      ]
    },
    {
      "cell_type": "code",
      "source": [
        "plot_elbow(D_cnn)"
      ],
      "metadata": {
        "colab": {
          "base_uri": "https://localhost:8080/",
          "height": 406
        },
        "id": "hIbdID_MI46P",
        "outputId": "81eddea5-74f4-4b30-925e-9103b53f0600"
      },
      "execution_count": null,
      "outputs": [
        {
          "output_type": "stream",
          "name": "stdout",
          "text": [
            "[311.03489405855976, 309.8774900020072, 305.43373499299605, 304.4733107749279, 305.0008300276205, 300.57471322163394, 289.36621378064274, 287.0235897473907]\n"
          ]
        },
        {
          "output_type": "display_data",
          "data": {
            "text/plain": [
              "<Figure size 432x432 with 1 Axes>"
            ],
            "image/png": "[encoded data removed]"
          },
          "metadata": {
            "needs_background": "light"
          }
        }
      ]
    },
    {
      "cell_type": "code",
      "source": [
        "silhouette_analysis(D_cnn)"
      ],
      "metadata": {
        "colab": {
          "base_uri": "https://localhost:8080/"
        },
        "id": "CBJogdhbJsPi",
        "outputId": "6f5c46cf-e10d-4184-ef37-4e3ba4ed46a0"
      },
      "execution_count": null,
      "outputs": [
        {
          "output_type": "stream",
          "name": "stdout",
          "text": [
            "For n_clusters = 2 The average silhouette_score is :0.21247360217999023\n",
            "For n_clusters = 3 The average silhouette_score is :0.21300620264515177\n",
            "For n_clusters = 4 The average silhouette_score is :0.28625539738458994\n",
            "For n_clusters = 5 The average silhouette_score is :0.14070138139965888\n",
            "For n_clusters = 6 The average silhouette_score is :0.1246365427889268\n",
            "For n_clusters = 7 The average silhouette_score is :-0.030190597346300703\n",
            "For n_clusters = 8 The average silhouette_score is :0.23730481318093827\n",
            "For n_clusters = 9 The average silhouette_score is :-0.053633703645086815\n"
          ]
        }
      ]
    },
    {
      "cell_type": "code",
      "source": [
        "visualize_silhouette(D_cnn)"
      ],
      "metadata": {
        "colab": {
          "base_uri": "https://localhost:8080/",
          "height": 1000
        },
        "id": "4ExbmOuhJ3YX",
        "outputId": "2af790e9-95d9-46bf-d2ed-2248c9f98eff"
      },
      "execution_count": null,
      "outputs": [
        {
          "output_type": "display_data",
          "data": {
            "text/plain": [
              "<Figure size 576x432 with 1 Axes>"
            ],
            "image/png": "[encoded data removed]"
          },
          "metadata": {
            "needs_background": "light"
          }
        },
        {
          "output_type": "display_data",
          "data": {
            "text/plain": [
              "<Figure size 576x432 with 1 Axes>"
            ],
            "image/png": "[encoded data removed]"
          },
          "metadata": {
            "needs_background": "light"
          }
        },
        {
          "output_type": "display_data",
          "data": {
            "text/plain": [
              "<Figure size 576x432 with 1 Axes>"
            ],
            "image/png": "[encoded data removed]"
          },
          "metadata": {
            "needs_background": "light"
          }
        },
        {
          "output_type": "display_data",
          "data": {
            "text/plain": [
              "<Figure size 576x432 with 1 Axes>"
            ],
            "image/png": "[encoded data removed]"
          },
          "metadata": {
            "needs_background": "light"
          }
        },
        {
          "output_type": "display_data",
          "data": {
            "text/plain": [
              "<Figure size 576x432 with 1 Axes>"
            ],
            "image/png": "[encoded data removed]"
          },
          "metadata": {
            "needs_background": "light"
          }
        },
        {
          "output_type": "display_data",
          "data": {
            "text/plain": [
              "<Figure size 576x432 with 1 Axes>"
            ],
            "image/png": "[encoded data removed]"
          },
          "metadata": {
            "needs_background": "light"
          }
        },
        {
          "output_type": "display_data",
          "data": {
            "text/plain": [
              "<Figure size 576x432 with 1 Axes>"
            ],
            "image/png": "[encoded data removed]"
          },
          "metadata": {
            "needs_background": "light"
          }
        }
      ]
    },
    {
      "cell_type": "code",
      "source": [
        "clusters_cnn_2 = k_means(D_cnn, 2)\n",
        "clusters_cnn_5 = k_means(D_cnn, 5)"
      ],
      "metadata": {
        "id": "w8fqR36YKOdG"
      },
      "execution_count": null,
      "outputs": []
    },
    {
      "cell_type": "code",
      "source": [
        "get_top_keywords(D_cnn, clusters_cnn_2, 10)"
      ],
      "metadata": {
        "colab": {
          "base_uri": "https://localhost:8080/"
        },
        "id": "OVKkKqwBJOig",
        "outputId": "afe39d4b-de2b-4479-a60a-69b565bf8dcd"
      },
      "execution_count": null,
      "outputs": [
        {
          "output_type": "stream",
          "name": "stdout",
          "text": [
            "\n",
            "Cluster 0\n",
            "isis,world,deal,sanders,obama,decision,plan,carter,fast,facts\n",
            "\n",
            "Cluster 1\n",
            "pianist,stay,quiet,observers,shut,airplane,start,diet,mediterranean,meal\n"
          ]
        }
      ]
    },
    {
      "cell_type": "code",
      "source": [
        "get_top_keywords(D_cnn, clusters_cnn_5, 10)"
      ],
      "metadata": {
        "colab": {
          "base_uri": "https://localhost:8080/"
        },
        "id": "7FXB38zFKhmH",
        "outputId": "d4e8c7f6-905d-44ab-f18a-512da220d141"
      },
      "execution_count": null,
      "outputs": [
        {
          "output_type": "stream",
          "name": "stdout",
          "text": [
            "\n",
            "Cluster 0\n",
            "pianist,stay,quiet,observers,wuhayshi,burn,airplane,page,show,transcript\n",
            "\n",
            "Cluster 1\n",
            "plans,plan,part,light,green,looks,west,bank,parts,annex\n",
            "\n",
            "Cluster 2\n",
            "isis,world,plan,deal,sanders,obama,decision,carter,fast,facts\n",
            "\n",
            "Cluster 3\n",
            "pianist,stay,quiet,observers,shut,airplane,start,diet,mediterranean,meal\n",
            "\n",
            "Cluster 4\n",
            "pianist,stay,quiet,observers,wuhayshi,significant,fast,facts,arab,league\n"
          ]
        }
      ]
    },
    {
      "cell_type": "markdown",
      "source": [
        "## Using PCA to visualize"
      ],
      "metadata": {
        "id": "zXSObmFxK8Ka"
      }
    },
    {
      "cell_type": "code",
      "source": [
        "x0, x1 = apply_pca(D_cnn)"
      ],
      "metadata": {
        "id": "Szd55lWoLgx3"
      },
      "execution_count": null,
      "outputs": []
    },
    {
      "cell_type": "code",
      "source": [
        "cnndf['clusters'] = clusters_cnn_4\n",
        "cnndf['x0'] = x0\n",
        "cnndf['x1'] = x1"
      ],
      "metadata": {
        "id": "VFYROp-ZLihI"
      },
      "execution_count": null,
      "outputs": []
    },
    {
      "cell_type": "code",
      "source": [
        "plot_2d(cnndf)"
      ],
      "metadata": {
        "colab": {
          "base_uri": "https://localhost:8080/",
          "height": 467
        },
        "id": "gdX3-ZM0LyOL",
        "outputId": "ee23aa13-4385-460e-a4c3-093ba9c59a5c"
      },
      "execution_count": null,
      "outputs": [
        {
          "output_type": "display_data",
          "data": {
            "text/plain": [
              "<Figure size 864x504 with 1 Axes>"
            ],
            "image/png": "[encoded data removed]"
          },
          "metadata": {
            "needs_background": "light"
          }
        }
      ]
    },
    {
      "cell_type": "code",
      "source": [
        "## SPHERICAL STUFF\n",
        "\n",
        "D_cnn_no = D_cnn[~np.all(D_cnn == 0, axis=1)]\n"
      ],
      "metadata": {
        "id": "BVojAMcssjhk"
      },
      "execution_count": null,
      "outputs": []
    },
    {
      "cell_type": "code",
      "source": [
        "plot_elbow(D_cnn_no, spherical=True)"
      ],
      "metadata": {
        "colab": {
          "base_uri": "https://localhost:8080/",
          "height": 426
        },
        "id": "abrOv13Is_UU",
        "outputId": "060afba6-b3a4-4f67-c522-24a1afe089f9"
      },
      "execution_count": null,
      "outputs": [
        {
          "output_type": "stream",
          "name": "stdout",
          "text": [
            "[0.29895420266704315, 0.6584027011136424, 1.3302580693995811, 1.4339267968424756, 1.8735264769496356, 1.896588893965976, 2.6971347741598444, 2.7589443484490435]\n"
          ]
        },
        {
          "output_type": "display_data",
          "data": {
            "text/plain": [
              "<Figure size 432x432 with 1 Axes>"
            ],
            "image/png": "[encoded data removed]"
          },
          "metadata": {
            "needs_background": "light"
          }
        }
      ]
    },
    {
      "cell_type": "code",
      "source": [
        "clusters_spherical_cnn_2 = spherical_k_means(D_cnn_no, 2)\n",
        "clusters_spherical_cnn_4 = spherical_k_means(D_cnn_no, 4)"
      ],
      "metadata": {
        "id": "35oKID4utJAX"
      },
      "execution_count": null,
      "outputs": []
    },
    {
      "cell_type": "code",
      "source": [
        "silhouette_analysis(D_cnn_no)"
      ],
      "metadata": {
        "colab": {
          "base_uri": "https://localhost:8080/"
        },
        "id": "ThP8ZvkGtPqe",
        "outputId": "d9c68571-6b31-472f-9c18-2250da365c6b"
      },
      "execution_count": null,
      "outputs": [
        {
          "output_type": "stream",
          "name": "stdout",
          "text": [
            "For n_clusters = 2 The average silhouette_score is :0.21247360217999023\n",
            "For n_clusters = 3 The average silhouette_score is :0.21300620264515177\n",
            "For n_clusters = 4 The average silhouette_score is :0.28625539738458994\n",
            "For n_clusters = 5 The average silhouette_score is :0.14070138139965888\n",
            "For n_clusters = 6 The average silhouette_score is :0.1246365427889268\n",
            "For n_clusters = 7 The average silhouette_score is :-0.030190597346300703\n",
            "For n_clusters = 8 The average silhouette_score is :0.23730481318093827\n",
            "For n_clusters = 9 The average silhouette_score is :-0.053633703645086815\n"
          ]
        }
      ]
    },
    {
      "cell_type": "code",
      "source": [
        "visualize_silhouette(D_cnn_no, spherical = True)"
      ],
      "metadata": {
        "colab": {
          "base_uri": "https://localhost:8080/",
          "height": 1000
        },
        "id": "vV4VHuW2tbC_",
        "outputId": "e7ad7088-f31b-4c7d-e257-72eae4688c1c"
      },
      "execution_count": null,
      "outputs": [
        {
          "output_type": "display_data",
          "data": {
            "text/plain": [
              "<Figure size 576x432 with 1 Axes>"
            ],
            "image/png": "[encoded data removed]"
          },
          "metadata": {
            "needs_background": "light"
          }
        },
        {
          "output_type": "display_data",
          "data": {
            "text/plain": [
              "<Figure size 576x432 with 1 Axes>"
            ],
            "image/png": "[encoded data removed]"
          },
          "metadata": {
            "needs_background": "light"
          }
        },
        {
          "output_type": "display_data",
          "data": {
            "text/plain": [
              "<Figure size 576x432 with 1 Axes>"
            ],
            "image/png": "[encoded data removed]"
          },
          "metadata": {
            "needs_background": "light"
          }
        },
        {
          "output_type": "display_data",
          "data": {
            "text/plain": [
              "<Figure size 576x432 with 1 Axes>"
            ],
            "image/png": "[encoded data removed]"
          },
          "metadata": {
            "needs_background": "light"
          }
        },
        {
          "output_type": "display_data",
          "data": {
            "text/plain": [
              "<Figure size 576x432 with 1 Axes>"
            ],
            "image/png": "[encoded data removed]"
          },
          "metadata": {
            "needs_background": "light"
          }
        },
        {
          "output_type": "display_data",
          "data": {
            "text/plain": [
              "<Figure size 576x432 with 1 Axes>"
            ],
            "image/png": "[encoded data removed]"
          },
          "metadata": {
            "needs_background": "light"
          }
        },
        {
          "output_type": "display_data",
          "data": {
            "text/plain": [
              "<Figure size 576x432 with 1 Axes>"
            ],
            "image/png": "[encoded data removed]"
          },
          "metadata": {
            "needs_background": "light"
          }
        }
      ]
    },
    {
      "cell_type": "code",
      "source": [
        "get_top_keywords(D_cnn_no, clusters_spherical_cnn_2, 10)"
      ],
      "metadata": {
        "colab": {
          "base_uri": "https://localhost:8080/"
        },
        "id": "lEtzBf74tqoy",
        "outputId": "ee646efb-f12f-4e7c-bd23-e737eb493a3b"
      },
      "execution_count": null,
      "outputs": [
        {
          "output_type": "stream",
          "name": "stdout",
          "text": [
            "\n",
            "Cluster 0\n",
            "isis,world,deal,sanders,obama,decision,plan,carter,fast,facts\n",
            "\n",
            "Cluster 1\n",
            "pianist,stay,quiet,observers,shut,airplane,start,diet,mediterranean,meal\n"
          ]
        }
      ]
    },
    {
      "cell_type": "code",
      "source": [
        "get_top_keywords(D_cnn_no, clusters_spherical_cnn_4, 10)"
      ],
      "metadata": {
        "colab": {
          "base_uri": "https://localhost:8080/"
        },
        "id": "Ihxdd20lt1MW",
        "outputId": "ef60e3aa-5cbc-41a3-e4db-430d32d1b25d"
      },
      "execution_count": null,
      "outputs": [
        {
          "output_type": "stream",
          "name": "stdout",
          "text": [
            "\n",
            "Cluster 0\n",
            "isis,world,deal,sanders,obama,decision,plan,carter,fast,facts\n",
            "\n",
            "Cluster 1\n",
            "sport,surprises,shock,nfl,fa,weekend,cup,page,show,transcript\n",
            "\n",
            "Cluster 2\n",
            "attempts,hide,monitor,bond,bars,stays,bishop,flds,lyle,jeffs\n",
            "\n",
            "Cluster 3\n",
            "pianist,stay,quiet,observers,shut,airplane,start,diet,mediterranean,meal\n"
          ]
        }
      ]
    },
    {
      "cell_type": "markdown",
      "source": [
        "# Sentiment Analysis"
      ],
      "metadata": {
        "id": "n09VHhSx3ttV"
      }
    },
    {
      "cell_type": "markdown",
      "source": [
        "Inspiration: https://www.learndatasci.com/tutorials/sentiment-analysis-reddit-headlines-pythons-nltk/"
      ],
      "metadata": {
        "id": "WH9ThqQn4qgv"
      }
    },
    {
      "cell_type": "code",
      "source": [
        "import nltk\n",
        "nltk.download('vader_lexicon')\n",
        "from nltk.sentiment.vader import SentimentIntensityAnalyzer as SIA\n",
        "\n",
        "sia = SIA()\n",
        "results = []\n",
        "\n",
        "def get_polarity(df):\n",
        "  for title in df['title']:\n",
        "    pol_score = sia.polarity_scores(title)\n",
        "    pol_score['headline'] = title\n",
        "    results.append(pol_score)\n",
        "  return results\n",
        "\n"
      ],
      "metadata": {
        "colab": {
          "base_uri": "https://localhost:8080/"
        },
        "id": "lGibZrov3wM9",
        "outputId": "ecec6aa3-9fc3-44c1-ddc7-a141901e5208"
      },
      "execution_count": null,
      "outputs": [
        {
          "output_type": "stream",
          "name": "stdout",
          "text": [
            "[nltk_data] Downloading package vader_lexicon to /root/nltk_data...\n"
          ]
        },
        {
          "output_type": "stream",
          "name": "stderr",
          "text": [
            "/usr/local/lib/python3.7/dist-packages/nltk/twitter/__init__.py:20: UserWarning: The twython library has not been installed. Some functionality from the twitter package will not be available.\n",
            "  warnings.warn(\"The twython library has not been installed. \"\n"
          ]
        }
      ]
    },
    {
      "cell_type": "code",
      "source": [
        "results = get_polarity(aldf)\n",
        "print(results[:3])"
      ],
      "metadata": {
        "colab": {
          "base_uri": "https://localhost:8080/"
        },
        "id": "8vXTiHk9g67a",
        "outputId": "cbbbd886-bf35-464b-ab74-806a90d875ac"
      },
      "execution_count": null,
      "outputs": [
        {
          "output_type": "stream",
          "name": "stdout",
          "text": [
            "[{'neg': 0.0, 'neu': 0.684, 'pos': 0.316, 'compound': 0.5719, 'headline': 'Israel court convicts seven over wedding video celebrating arson'}, {'neg': 0.268, 'neu': 0.732, 'pos': 0.0, 'compound': -0.5106, 'headline': 'New Israeli rules on foreigners visiting West Bank stir outrage'}, {'neg': 0.391, 'neu': 0.609, 'pos': 0.0, 'compound': -0.6705, 'headline': 'Palestinian killed during Israeli raid on Jenin camp'}]\n"
          ]
        }
      ]
    },
    {
      "cell_type": "code",
      "source": [
        "df_1 = pd.DataFrame.from_records(results)\n",
        "df_1.head()"
      ],
      "metadata": {
        "colab": {
          "base_uri": "https://localhost:8080/",
          "height": 206
        },
        "id": "wTyRy4wj5h2k",
        "outputId": "10aa3daa-c2f1-4ec6-cc7d-37903c2d4fe8"
      },
      "execution_count": null,
      "outputs": [
        {
          "output_type": "execute_result",
          "data": {
            "text/plain": [
              "     neg    neu    pos  compound  \\\n",
              "0  0.000  0.684  0.316    0.5719   \n",
              "1  0.268  0.732  0.000   -0.5106   \n",
              "2  0.391  0.609  0.000   -0.6705   \n",
              "3  0.370  0.630  0.000   -0.6908   \n",
              "4  0.000  1.000  0.000    0.0000   \n",
              "\n",
              "                                            headline  \n",
              "0  Israel court convicts seven over wedding video...  \n",
              "1  New Israeli rules on foreigners visiting West ...  \n",
              "2  Palestinian killed during Israeli raid on Jeni...  \n",
              "3  Israeli forces kill Palestinian in occupied We...  \n",
              "4         Egypt’s role in Gaza: More than a mediator  "
            ],
            "text/html": [
              "\n",
              "  <div id=\"df-df981d88-49b2-41ea-9bb9-6352afd2444c\">\n",
              "    <div class=\"colab-df-container\">\n",
              "      <div>\n",
              "<style scoped>\n",
              "    .dataframe tbody tr th:only-of-type {\n",
              "        vertical-align: middle;\n",
              "    }\n",
              "\n",
              "    .dataframe tbody tr th {\n",
              "        vertical-align: top;\n",
              "    }\n",
              "\n",
              "    .dataframe thead th {\n",
              "        text-align: right;\n",
              "    }\n",
              "</style>\n",
              "<table border=\"1\" class=\"dataframe\">\n",
              "  <thead>\n",
              "    <tr style=\"text-align: right;\">\n",
              "      <th></th>\n",
              "      <th>neg</th>\n",
              "      <th>neu</th>\n",
              "      <th>pos</th>\n",
              "      <th>compound</th>\n",
              "      <th>headline</th>\n",
              "    </tr>\n",
              "  </thead>\n",
              "  <tbody>\n",
              "    <tr>\n",
              "      <th>0</th>\n",
              "      <td>0.000</td>\n",
              "      <td>0.684</td>\n",
              "      <td>0.316</td>\n",
              "      <td>0.5719</td>\n",
              "      <td>Israel court convicts seven over wedding video...</td>\n",
              "    </tr>\n",
              "    <tr>\n",
              "      <th>1</th>\n",
              "      <td>0.268</td>\n",
              "      <td>0.732</td>\n",
              "      <td>0.000</td>\n",
              "      <td>-0.5106</td>\n",
              "      <td>New Israeli rules on foreigners visiting West ...</td>\n",
              "    </tr>\n",
              "    <tr>\n",
              "      <th>2</th>\n",
              "      <td>0.391</td>\n",
              "      <td>0.609</td>\n",
              "      <td>0.000</td>\n",
              "      <td>-0.6705</td>\n",
              "      <td>Palestinian killed during Israeli raid on Jeni...</td>\n",
              "    </tr>\n",
              "    <tr>\n",
              "      <th>3</th>\n",
              "      <td>0.370</td>\n",
              "      <td>0.630</td>\n",
              "      <td>0.000</td>\n",
              "      <td>-0.6908</td>\n",
              "      <td>Israeli forces kill Palestinian in occupied We...</td>\n",
              "    </tr>\n",
              "    <tr>\n",
              "      <th>4</th>\n",
              "      <td>0.000</td>\n",
              "      <td>1.000</td>\n",
              "      <td>0.000</td>\n",
              "      <td>0.0000</td>\n",
              "      <td>Egypt’s role in Gaza: More than a mediator</td>\n",
              "    </tr>\n",
              "  </tbody>\n",
              "</table>\n",
              "</div>\n",
              "      <button class=\"colab-df-convert\" onclick=\"convertToInteractive('df-df981d88-49b2-41ea-9bb9-6352afd2444c')\"\n",
              "              title=\"Convert this dataframe to an interactive table.\"\n",
              "              style=\"display:none;\">\n",
              "        \n",
              "  <svg xmlns=\"http://www.w3.org/2000/svg\" height=\"24px\"viewBox=\"0 0 24 24\"\n",
              "       width=\"24px\">\n",
              "    <path d=\"M0 0h24v24H0V0z\" fill=\"none\"/>\n",
              "    <path d=\"M18.56 5.44l.94 2.06.94-2.06 2.06-.94-2.06-.94-.94-2.06-.94 2.06-2.06.94zm-11 1L8.5 8.5l.94-2.06 2.06-.94-2.06-.94L8.5 2.5l-.94 2.06-2.06.94zm10 10l.94 2.06.94-2.06 2.06-.94-2.06-.94-.94-2.06-.94 2.06-2.06.94z\"/><path d=\"M17.41 7.96l-1.37-1.37c-.4-.4-.92-.59-1.43-.59-.52 0-1.04.2-1.43.59L10.3 9.45l-7.72 7.72c-.78.78-.78 2.05 0 2.83L4 21.41c.39.39.9.59 1.41.59.51 0 1.02-.2 1.41-.59l7.78-7.78 2.81-2.81c.8-.78.8-2.07 0-2.86zM5.41 20L4 18.59l7.72-7.72 1.47 1.35L5.41 20z\"/>\n",
              "  </svg>\n",
              "      </button>\n",
              "      \n",
              "  <style>\n",
              "    .colab-df-container {\n",
              "      display:flex;\n",
              "      flex-wrap:wrap;\n",
              "      gap: 12px;\n",
              "    }\n",
              "\n",
              "    .colab-df-convert {\n",
              "      background-color: #E8F0FE;\n",
              "      border: none;\n",
              "      border-radius: 50%;\n",
              "      cursor: pointer;\n",
              "      display: none;\n",
              "      fill: #1967D2;\n",
              "      height: 32px;\n",
              "      padding: 0 0 0 0;\n",
              "      width: 32px;\n",
              "    }\n",
              "\n",
              "    .colab-df-convert:hover {\n",
              "      background-color: #E2EBFA;\n",
              "      box-shadow: 0px 1px 2px rgba(60, 64, 67, 0.3), 0px 1px 3px 1px rgba(60, 64, 67, 0.15);\n",
              "      fill: #174EA6;\n",
              "    }\n",
              "\n",
              "    [theme=dark] .colab-df-convert {\n",
              "      background-color: #3B4455;\n",
              "      fill: #D2E3FC;\n",
              "    }\n",
              "\n",
              "    [theme=dark] .colab-df-convert:hover {\n",
              "      background-color: #434B5C;\n",
              "      box-shadow: 0px 1px 3px 1px rgba(0, 0, 0, 0.15);\n",
              "      filter: drop-shadow(0px 1px 2px rgba(0, 0, 0, 0.3));\n",
              "      fill: #FFFFFF;\n",
              "    }\n",
              "  </style>\n",
              "\n",
              "      <script>\n",
              "        const buttonEl =\n",
              "          document.querySelector('#df-df981d88-49b2-41ea-9bb9-6352afd2444c button.colab-df-convert');\n",
              "        buttonEl.style.display =\n",
              "          google.colab.kernel.accessAllowed ? 'block' : 'none';\n",
              "\n",
              "        async function convertToInteractive(key) {\n",
              "          const element = document.querySelector('#df-df981d88-49b2-41ea-9bb9-6352afd2444c');\n",
              "          const dataTable =\n",
              "            await google.colab.kernel.invokeFunction('convertToInteractive',\n",
              "                                                     [key], {});\n",
              "          if (!dataTable) return;\n",
              "\n",
              "          const docLinkHtml = 'Like what you see? Visit the ' +\n",
              "            '<a target=\"_blank\" href=https://colab.research.google.com/notebooks/data_table.ipynb>data table notebook</a>'\n",
              "            + ' to learn more about interactive tables.';\n",
              "          element.innerHTML = '';\n",
              "          dataTable['output_type'] = 'display_data';\n",
              "          await google.colab.output.renderOutput(dataTable, element);\n",
              "          const docLink = document.createElement('div');\n",
              "          docLink.innerHTML = docLinkHtml;\n",
              "          element.appendChild(docLink);\n",
              "        }\n",
              "      </script>\n",
              "    </div>\n",
              "  </div>\n",
              "  "
            ]
          },
          "metadata": {},
          "execution_count": 91
        }
      ]
    },
    {
      "cell_type": "code",
      "source": [
        "def add_labels(df):\n",
        "  df['label'] = 0\n",
        "  df.loc[df['compound'] > 0.2, 'label'] = 1\n",
        "  df.loc[df['compound'] < -0.2, 'label'] = -1\n",
        "  return df\n"
      ],
      "metadata": {
        "id": "KXhVTPS85rDg"
      },
      "execution_count": null,
      "outputs": []
    },
    {
      "cell_type": "code",
      "source": [
        "df_1 = add_labels(df_1)\n",
        "print(df_1.label.value_counts(normalize=True) * 100)\n"
      ],
      "metadata": {
        "colab": {
          "base_uri": "https://localhost:8080/"
        },
        "id": "cWLGXnc9hLV2",
        "outputId": "f0780af9-4faf-4344-f7df-7b95d4d10026"
      },
      "execution_count": null,
      "outputs": [
        {
          "output_type": "stream",
          "name": "stdout",
          "text": [
            "-1    54.98008\n",
            " 0    36.25498\n",
            " 1     8.76494\n",
            "Name: label, dtype: float64\n"
          ]
        }
      ]
    },
    {
      "cell_type": "code",
      "source": [
        "def plot_polarity(df):\n",
        "  fig, ax = plt.subplots(figsize=(8, 8))\n",
        "\n",
        "  counts = df.label.value_counts(normalize=True) * 100\n",
        "\n",
        "  sns.barplot(x=counts.index, y=counts, ax=ax)\n",
        "\n",
        "  ax.set_xticklabels(['Negative', 'Neutral', 'Positive'])\n",
        "  ax.set_ylabel(\"Percentage\")\n",
        "\n",
        "  plt.show()"
      ],
      "metadata": {
        "id": "Ya7miW6Q56XM"
      },
      "execution_count": null,
      "outputs": []
    },
    {
      "cell_type": "code",
      "source": [
        "plot_polarity(df_1)"
      ],
      "metadata": {
        "colab": {
          "base_uri": "https://localhost:8080/",
          "height": 483
        },
        "id": "QSxtVqqwhUui",
        "outputId": "f6397a46-a538-4a5a-9b9c-9c009540a8c6"
      },
      "execution_count": null,
      "outputs": [
        {
          "output_type": "display_data",
          "data": {
            "text/plain": [
              "<Figure size 576x576 with 1 Axes>"
            ],
            "image/png": "[encoded data removed]"
          },
          "metadata": {
            "needs_background": "light"
          }
        }
      ]
    },
    {
      "cell_type": "code",
      "source": [
        "## SENTIMENT ANALYSIS CNN\n",
        "\n",
        "results = get_polarity(cnndf)\n",
        "df_2 = pd.DataFrame.from_records(results)\n",
        "df_2.head()"
      ],
      "metadata": {
        "colab": {
          "base_uri": "https://localhost:8080/",
          "height": 206
        },
        "id": "DB6xcSGXgv8Z",
        "outputId": "21198c92-9693-4c4a-91bc-291d00279ae6"
      },
      "execution_count": null,
      "outputs": [
        {
          "output_type": "execute_result",
          "data": {
            "text/plain": [
              "     neg    neu    pos  compound  \\\n",
              "0  0.000  0.684  0.316    0.5719   \n",
              "1  0.268  0.732  0.000   -0.5106   \n",
              "2  0.391  0.609  0.000   -0.6705   \n",
              "3  0.370  0.630  0.000   -0.6908   \n",
              "4  0.000  1.000  0.000    0.0000   \n",
              "\n",
              "                                            headline  \n",
              "0  Israel court convicts seven over wedding video...  \n",
              "1  New Israeli rules on foreigners visiting West ...  \n",
              "2  Palestinian killed during Israeli raid on Jeni...  \n",
              "3  Israeli forces kill Palestinian in occupied We...  \n",
              "4         Egypt’s role in Gaza: More than a mediator  "
            ],
            "text/html": [
              "\n",
              "  <div id=\"df-218f631b-8d34-4692-a464-501cd910a206\">\n",
              "    <div class=\"colab-df-container\">\n",
              "      <div>\n",
              "<style scoped>\n",
              "    .dataframe tbody tr th:only-of-type {\n",
              "        vertical-align: middle;\n",
              "    }\n",
              "\n",
              "    .dataframe tbody tr th {\n",
              "        vertical-align: top;\n",
              "    }\n",
              "\n",
              "    .dataframe thead th {\n",
              "        text-align: right;\n",
              "    }\n",
              "</style>\n",
              "<table border=\"1\" class=\"dataframe\">\n",
              "  <thead>\n",
              "    <tr style=\"text-align: right;\">\n",
              "      <th></th>\n",
              "      <th>neg</th>\n",
              "      <th>neu</th>\n",
              "      <th>pos</th>\n",
              "      <th>compound</th>\n",
              "      <th>headline</th>\n",
              "    </tr>\n",
              "  </thead>\n",
              "  <tbody>\n",
              "    <tr>\n",
              "      <th>0</th>\n",
              "      <td>0.000</td>\n",
              "      <td>0.684</td>\n",
              "      <td>0.316</td>\n",
              "      <td>0.5719</td>\n",
              "      <td>Israel court convicts seven over wedding video...</td>\n",
              "    </tr>\n",
              "    <tr>\n",
              "      <th>1</th>\n",
              "      <td>0.268</td>\n",
              "      <td>0.732</td>\n",
              "      <td>0.000</td>\n",
              "      <td>-0.5106</td>\n",
              "      <td>New Israeli rules on foreigners visiting West ...</td>\n",
              "    </tr>\n",
              "    <tr>\n",
              "      <th>2</th>\n",
              "      <td>0.391</td>\n",
              "      <td>0.609</td>\n",
              "      <td>0.000</td>\n",
              "      <td>-0.6705</td>\n",
              "      <td>Palestinian killed during Israeli raid on Jeni...</td>\n",
              "    </tr>\n",
              "    <tr>\n",
              "      <th>3</th>\n",
              "      <td>0.370</td>\n",
              "      <td>0.630</td>\n",
              "      <td>0.000</td>\n",
              "      <td>-0.6908</td>\n",
              "      <td>Israeli forces kill Palestinian in occupied We...</td>\n",
              "    </tr>\n",
              "    <tr>\n",
              "      <th>4</th>\n",
              "      <td>0.000</td>\n",
              "      <td>1.000</td>\n",
              "      <td>0.000</td>\n",
              "      <td>0.0000</td>\n",
              "      <td>Egypt’s role in Gaza: More than a mediator</td>\n",
              "    </tr>\n",
              "  </tbody>\n",
              "</table>\n",
              "</div>\n",
              "      <button class=\"colab-df-convert\" onclick=\"convertToInteractive('df-218f631b-8d34-4692-a464-501cd910a206')\"\n",
              "              title=\"Convert this dataframe to an interactive table.\"\n",
              "              style=\"display:none;\">\n",
              "        \n",
              "  <svg xmlns=\"http://www.w3.org/2000/svg\" height=\"24px\"viewBox=\"0 0 24 24\"\n",
              "       width=\"24px\">\n",
              "    <path d=\"M0 0h24v24H0V0z\" fill=\"none\"/>\n",
              "    <path d=\"M18.56 5.44l.94 2.06.94-2.06 2.06-.94-2.06-.94-.94-2.06-.94 2.06-2.06.94zm-11 1L8.5 8.5l.94-2.06 2.06-.94-2.06-.94L8.5 2.5l-.94 2.06-2.06.94zm10 10l.94 2.06.94-2.06 2.06-.94-2.06-.94-.94-2.06-.94 2.06-2.06.94z\"/><path d=\"M17.41 7.96l-1.37-1.37c-.4-.4-.92-.59-1.43-.59-.52 0-1.04.2-1.43.59L10.3 9.45l-7.72 7.72c-.78.78-.78 2.05 0 2.83L4 21.41c.39.39.9.59 1.41.59.51 0 1.02-.2 1.41-.59l7.78-7.78 2.81-2.81c.8-.78.8-2.07 0-2.86zM5.41 20L4 18.59l7.72-7.72 1.47 1.35L5.41 20z\"/>\n",
              "  </svg>\n",
              "      </button>\n",
              "      \n",
              "  <style>\n",
              "    .colab-df-container {\n",
              "      display:flex;\n",
              "      flex-wrap:wrap;\n",
              "      gap: 12px;\n",
              "    }\n",
              "\n",
              "    .colab-df-convert {\n",
              "      background-color: #E8F0FE;\n",
              "      border: none;\n",
              "      border-radius: 50%;\n",
              "      cursor: pointer;\n",
              "      display: none;\n",
              "      fill: #1967D2;\n",
              "      height: 32px;\n",
              "      padding: 0 0 0 0;\n",
              "      width: 32px;\n",
              "    }\n",
              "\n",
              "    .colab-df-convert:hover {\n",
              "      background-color: #E2EBFA;\n",
              "      box-shadow: 0px 1px 2px rgba(60, 64, 67, 0.3), 0px 1px 3px 1px rgba(60, 64, 67, 0.15);\n",
              "      fill: #174EA6;\n",
              "    }\n",
              "\n",
              "    [theme=dark] .colab-df-convert {\n",
              "      background-color: #3B4455;\n",
              "      fill: #D2E3FC;\n",
              "    }\n",
              "\n",
              "    [theme=dark] .colab-df-convert:hover {\n",
              "      background-color: #434B5C;\n",
              "      box-shadow: 0px 1px 3px 1px rgba(0, 0, 0, 0.15);\n",
              "      filter: drop-shadow(0px 1px 2px rgba(0, 0, 0, 0.3));\n",
              "      fill: #FFFFFF;\n",
              "    }\n",
              "  </style>\n",
              "\n",
              "      <script>\n",
              "        const buttonEl =\n",
              "          document.querySelector('#df-218f631b-8d34-4692-a464-501cd910a206 button.colab-df-convert');\n",
              "        buttonEl.style.display =\n",
              "          google.colab.kernel.accessAllowed ? 'block' : 'none';\n",
              "\n",
              "        async function convertToInteractive(key) {\n",
              "          const element = document.querySelector('#df-218f631b-8d34-4692-a464-501cd910a206');\n",
              "          const dataTable =\n",
              "            await google.colab.kernel.invokeFunction('convertToInteractive',\n",
              "                                                     [key], {});\n",
              "          if (!dataTable) return;\n",
              "\n",
              "          const docLinkHtml = 'Like what you see? Visit the ' +\n",
              "            '<a target=\"_blank\" href=https://colab.research.google.com/notebooks/data_table.ipynb>data table notebook</a>'\n",
              "            + ' to learn more about interactive tables.';\n",
              "          element.innerHTML = '';\n",
              "          dataTable['output_type'] = 'display_data';\n",
              "          await google.colab.output.renderOutput(dataTable, element);\n",
              "          const docLink = document.createElement('div');\n",
              "          docLink.innerHTML = docLinkHtml;\n",
              "          element.appendChild(docLink);\n",
              "        }\n",
              "      </script>\n",
              "    </div>\n",
              "  </div>\n",
              "  "
            ]
          },
          "metadata": {},
          "execution_count": 96
        }
      ]
    },
    {
      "cell_type": "code",
      "source": [
        "df_2 = add_labels(df_2)\n",
        "print(df_2.label.value_counts(normalize=True) * 100)"
      ],
      "metadata": {
        "colab": {
          "base_uri": "https://localhost:8080/"
        },
        "id": "meTTJiInh2yM",
        "outputId": "17c34f27-4bf4-4b7a-ea02-2beed74fb60d"
      },
      "execution_count": null,
      "outputs": [
        {
          "output_type": "stream",
          "name": "stdout",
          "text": [
            "-1    46.782988\n",
            " 0    40.348964\n",
            " 1    12.868048\n",
            "Name: label, dtype: float64\n"
          ]
        }
      ]
    },
    {
      "cell_type": "code",
      "source": [
        "plot_polarity(df_2)"
      ],
      "metadata": {
        "colab": {
          "base_uri": "https://localhost:8080/",
          "height": 483
        },
        "id": "HmrpYf0zlWqo",
        "outputId": "85e7ea96-f2d5-4b5e-8702-3230b9fae19a"
      },
      "execution_count": null,
      "outputs": [
        {
          "output_type": "display_data",
          "data": {
            "text/plain": [
              "<Figure size 576x576 with 1 Axes>"
            ],
            "image/png": "[encoded data removed]"
          },
          "metadata": {
            "needs_background": "light"
          }
        }
      ]
    }
  ]
}